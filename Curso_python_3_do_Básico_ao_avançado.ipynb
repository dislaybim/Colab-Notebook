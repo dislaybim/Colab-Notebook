{
  "nbformat": 4,
  "nbformat_minor": 0,
  "metadata": {
    "colab": {
      "provenance": [],
      "toc_visible": true,
      "authorship_tag": "ABX9TyN+buvaxtQQKFEDjd/XkeaX",
      "include_colab_link": true
    },
    "kernelspec": {
      "name": "python3",
      "display_name": "Python 3"
    },
    "language_info": {
      "name": "python"
    }
  },
  "cells": [
    {
      "cell_type": "markdown",
      "metadata": {
        "id": "view-in-github",
        "colab_type": "text"
      },
      "source": [
        "<a href=\"https://colab.research.google.com/github/dislaybim/Colab-Notebook/blob/main/Curso_python_3_do_B%C3%A1sico_ao_avan%C3%A7ado.ipynb\" target=\"_parent\"><img src=\"https://colab.research.google.com/assets/colab-badge.svg\" alt=\"Open In Colab\"/></a>"
      ]
    },
    {
      "cell_type": "code",
      "source": [],
      "metadata": {
        "id": "vMLJkmwzUfHB"
      },
      "execution_count": null,
      "outputs": []
    },
    {
      "cell_type": "markdown",
      "source": [],
      "metadata": {
        "id": "NqPtemfMbDdZ"
      }
    },
    {
      "cell_type": "code",
      "execution_count": null,
      "metadata": {
        "colab": {
          "base_uri": "https://localhost:8080/"
        },
        "id": "FEfghyGEiWOn",
        "outputId": "747d8b81-8197-4e04-dbad-30fdbc70719c"
      },
      "outputs": [
        {
          "output_type": "stream",
          "name": "stdout",
          "text": [
            "False\n"
          ]
        }
      ],
      "source": [
        "print(2.22==2)"
      ]
    },
    {
      "cell_type": "code",
      "source": [
        "a = 3/3\n",
        "print(a)"
      ],
      "metadata": {
        "colab": {
          "base_uri": "https://localhost:8080/"
        },
        "id": "Y634iPQzUizU",
        "outputId": "abb84b13-dd25-468d-9e73-d37d95921e60"
      },
      "execution_count": null,
      "outputs": [
        {
          "output_type": "stream",
          "name": "stdout",
          "text": [
            "1.0\n"
          ]
        }
      ]
    },
    {
      "cell_type": "markdown",
      "source": [
        "Introdução ás funções (def) em Python:\n",
        "funções são trechos de código usados para replicar determinada ação ao longo do seu código.\n",
        "Elas podem receber valores para parâmetros (argumentos) e retornar um valor específico.\n",
        "Por padrão, função python retornam nome(nada)."
      ],
      "metadata": {
        "id": "CdI5JxiMw3zs"
      }
    },
    {
      "cell_type": "code",
      "source": [
        "def saudacao(nome = ' sem nome'):   #definimos um valor inicial para os parâmetros dessa funão\n",
        "  print(f'Olá, {nome}!')\n",
        "\n",
        "saudacao('luiz') #ao decorrer do código compilamos essa função, apresentando um novo valor que substitui o valor antigo da variável\n",
        "saudacao('gaturiano')\n",
        "saudacao()"
      ],
      "metadata": {
        "colab": {
          "base_uri": "https://localhost:8080/"
        },
        "id": "OFXhMa8kxcsf",
        "outputId": "78aa2e9c-2efc-42dc-a31e-fe2f04831049"
      },
      "execution_count": null,
      "outputs": [
        {
          "output_type": "stream",
          "name": "stdout",
          "text": [
            "Olá, luiz!\n",
            "Olá, gaturiano!\n",
            "Olá,  sem nome!\n"
          ]
        }
      ]
    },
    {
      "cell_type": "code",
      "source": [
        "def soma(x,y,z):#parâmetros\n",
        "  #definição da função\n",
        "  print(f'{x=} y={y} {z=}', '|','x+y+z = ',x+y+z)\n",
        "\n",
        "soma(1,2,3)#argumentos da função\n",
        "soma(1,y=2,z=5)#retorna um valor none\n",
        "\n",
        "print(1,2,3, sep='-')"
      ],
      "metadata": {
        "colab": {
          "base_uri": "https://localhost:8080/"
        },
        "id": "z4uiN2gr2NTz",
        "outputId": "8d892cbd-8aed-4e72-dae7-893e6f75313c"
      },
      "execution_count": null,
      "outputs": [
        {
          "output_type": "stream",
          "name": "stdout",
          "text": [
            "x=1 y=2 z=3 | x+y+z =  6\n",
            "x=1 y=2 z=5 | x+y+z =  8\n",
            "1-2-3\n"
          ]
        }
      ]
    },
    {
      "cell_type": "code",
      "source": [
        " #Valores padrão para parâmetros\n",
        " #Ao definir um função, os parâmentos podem\n",
        " #ter valores padrao.Caso o valor não seja\n",
        " #enviado para o parâmetro, o valor padrão será usado.\n",
        " #Refatorar:\n",
        "\n",
        "def soma(x,y, z=None):#z=None, significa que o espaço não é preenchido, null\n",
        "  if z is not None:#verificar se z é preenchido\n",
        "    print(f'{x=} {y=} {z=}','|','x+y+z = ',x+y+z)\n",
        "  else:#se z não for preenchido a condição se altera\n",
        "    print(f'{x=} {y=}','|','x+y =',x+y)\n",
        "\n",
        "soma(1,2)#z=none\n",
        "soma(3,5)#z=none\n",
        "soma(100,200)#z=none\n",
        "soma(2,4,10)#z=!none\n",
        "soma(24,24,24)#z=!none\n",
        "\n",
        "\n",
        "\n"
      ],
      "metadata": {
        "colab": {
          "base_uri": "https://localhost:8080/"
        },
        "id": "RtUifOzPYao0",
        "outputId": "317c0eef-9bfb-412d-9c4b-6a6b78fa350a"
      },
      "execution_count": null,
      "outputs": [
        {
          "output_type": "stream",
          "name": "stdout",
          "text": [
            "x=1 y=2 | x+y = 3\n",
            "x=3 y=5 | x+y = 8\n",
            "x=100 y=200 | x+y = 300\n",
            "x=2 y=4 z=10 | x+y+z =  16\n",
            "x=24 y=24 z=24 | x+y+z =  72\n"
          ]
        }
      ]
    },
    {
      "cell_type": "markdown",
      "source": [
        "Escopo de funções em python\n",
        "escopo significa o local onde aquele código pode atingir.\n",
        "existeo escopo global e local.\n",
        "O escopo global é o escopo onde todo o código é alcançavel.\n",
        "o escopo local é o escopo onde apenas nomes do mesmo localpodem ser alcançados."
      ],
      "metadata": {
        "id": "T9exUKlPe9hE"
      }
    },
    {
      "cell_type": "code",
      "source": [
        "from ast import Delete\n",
        "#o'que eu defino dentro da função fica protegido na função\n",
        "#consigo definir a variável x no escopo externo\n",
        "\n",
        "y = int(input('adicione um número: '))\n",
        "x=1  #por isso que não é bom adotar variáveis globais para o nosso código.\n",
        "#\n",
        "\n",
        "def escopo():\n",
        "  global x  #define o x interno dessa função como a variável global\n",
        "  x=10  #temos essa variável x que seta definida dentro da função\n",
        "  print(x)\n",
        "  print(y)\n",
        "  def outra_funcao():\n",
        "    #global x\n",
        "    x = 12\n",
        "    y = 3\n",
        "    print(x, y)\n",
        "  outra_funcao()\n",
        "\n",
        "\n",
        "print(x)\n",
        "escopo()\n",
        "print(x)\n",
        "\n",
        "\n",
        "\n",
        "\n",
        "\n"
      ],
      "metadata": {
        "colab": {
          "base_uri": "https://localhost:8080/"
        },
        "id": "MWG3R_phkVc1",
        "outputId": "b7c1ebca-edd4-4227-8b26-48b947bce806"
      },
      "execution_count": null,
      "outputs": [
        {
          "output_type": "stream",
          "name": "stdout",
          "text": [
            "adicione um número: 4\n",
            "1\n",
            "10\n",
            "4\n",
            "12 3\n",
            "10\n"
          ]
        }
      ]
    },
    {
      "cell_type": "markdown",
      "source": [
        "AULA 110) Retorno das funções"
      ],
      "metadata": {
        "id": "ACRVXKv-Oxki"
      }
    },
    {
      "cell_type": "code",
      "source": [
        "variavel = print('luiz')\n",
        "print(variavel)#vai aparecer o print e depois o valor da variável que será vazia."
      ],
      "metadata": {
        "colab": {
          "base_uri": "https://localhost:8080/"
        },
        "id": "pu1YEYDtO7Ui",
        "outputId": "9eef27e2-051a-4e57-f27c-1717c473a86d"
      },
      "execution_count": null,
      "outputs": [
        {
          "output_type": "stream",
          "name": "stdout",
          "text": [
            "luiz\n",
            "None\n"
          ]
        }
      ]
    },
    {
      "cell_type": "code",
      "source": [
        "def soma(x,y):\n",
        "  print('olha')\n",
        "  print('só')\n",
        "  print('que')\n",
        "  print('legal')\n",
        "  return x+y    #essa diretiva retun é bastante relevante, haja vista que tal função devera retornar esse seguinte valor.\n",
        "               #retorna valor de dentro da função\n",
        "               #essa palavra return é como se fosse um break que para o processamento do código e retorna o valor exato\n",
        "abc = soma(1,2)\n",
        "print(abc)\n"
      ],
      "metadata": {
        "colab": {
          "base_uri": "https://localhost:8080/"
        },
        "id": "cG9ieczkQfzm",
        "outputId": "0494007b-9b53-43c4-d0a1-5e63ff2dcf76"
      },
      "execution_count": null,
      "outputs": [
        {
          "output_type": "stream",
          "name": "stdout",
          "text": [
            "olha\n",
            "só\n",
            "que\n",
            "legal\n",
            "3\n"
          ]
        }
      ]
    },
    {
      "cell_type": "markdown",
      "source": [
        "111) *args para quantidade de argumentos\n"
      ],
      "metadata": {
        "id": "4F-DlGuMZ58q"
      }
    },
    {
      "cell_type": "code",
      "source": [
        "#args - Argumentos nomeados\n",
        "# * - *args (empacotamentos e desempacotamento)\n",
        "\n",
        "x, y, *resto = 1,2,3,4\n",
        "print(x,y,resto)\n",
        "\n",
        "\n",
        "def soma(*args):\n",
        "  print(args, type(args))\n",
        "\n",
        "soma(1,2,3,4,5,6)\n"
      ],
      "metadata": {
        "colab": {
          "base_uri": "https://localhost:8080/"
        },
        "id": "gctUAzUNaBW1",
        "outputId": "b5b73064-0572-46a8-eddb-6bd020d42ff5"
      },
      "execution_count": null,
      "outputs": [
        {
          "output_type": "stream",
          "name": "stdout",
          "text": [
            "1 2 [3, 4]\n",
            "(1, 2, 3, 4, 5, 6) <class 'tuple'>\n"
          ]
        }
      ]
    },
    {
      "cell_type": "code",
      "source": [
        "x, y, *resto = 1,2,3,4\n",
        "print(x,y,resto)\n",
        "\n",
        "\n",
        "def soma(*args):\n",
        "  total = 0\n",
        "  for numero in args:\n",
        "    total = total +numero\n",
        "  return total\n",
        "\n",
        "a = soma(1,2,3,4,5,6)\n",
        "print(a)\n"
      ],
      "metadata": {
        "colab": {
          "base_uri": "https://localhost:8080/"
        },
        "id": "jeWlRZ8kbkM8",
        "outputId": "c37e7483-146c-42d5-f692-cf922b9c9907"
      },
      "execution_count": null,
      "outputs": [
        {
          "output_type": "stream",
          "name": "stdout",
          "text": [
            "1 2 [3, 4]\n",
            "21\n"
          ]
        }
      ]
    },
    {
      "cell_type": "markdown",
      "source": [
        "AULA 113) EXERCÍCIO:\n"
      ],
      "metadata": {
        "id": "_5PdgLkgdCNq"
      }
    },
    {
      "cell_type": "code",
      "source": [
        "#CRIE UMA FUNÇÃO QUE MULTIPLICA TODO OS ARGUMENTOS\n",
        "#NÃO NOMEADOS RECEBIDOS\n",
        "#RETORNE O TOTAL PARA UMA VARIÁVEL E MOSTRE O VALOR\n",
        "#DA VARIÁVEL\n",
        "#CRIE UMA FUNÇÃO QUE FALE SE O NÚMERO É IMPAR OU PAR.\n",
        "\n",
        "def multiplica(*args): #função com varios argumentos não nomeados\n",
        "  total = 1\n",
        "  for numero in args:\n",
        "    total *= numero\n",
        "  return total\n",
        "\n",
        "def par_impar(valor):   #função para verificar se é par ou ímpar\n",
        "  if(valor % 2 == 0):\n",
        "    return print(f'{valor} é  PAR!!!')\n",
        "  return print(f'{valor} é  ÍMPAR!!!')\n",
        "\n",
        "resultado = multiplica(1,2,3)\n",
        "print(resultado)\n",
        "\n",
        "escolha = int(input(\"escolha qualquer numero inteiro: \"))\n",
        "par_impar(escolha)\n",
        "\n",
        "\n",
        "\n",
        "\n"
      ],
      "metadata": {
        "colab": {
          "base_uri": "https://localhost:8080/"
        },
        "id": "Y5RMAxc-dH1P",
        "outputId": "3b3ff5e0-7df6-4852-c8da-7194ae4dadc4"
      },
      "execution_count": null,
      "outputs": [
        {
          "output_type": "stream",
          "name": "stdout",
          "text": [
            "6\n",
            "escolha qualquer numero inteiro: 6666\n",
            "6666 é  PAR!!!\n"
          ]
        }
      ]
    },
    {
      "cell_type": "markdown",
      "source": [
        "114) FUNÇÂO PRIMEIRA ORDEM\n"
      ],
      "metadata": {
        "id": "4mzPUBy2l79Y"
      }
    },
    {
      "cell_type": "code",
      "source": [
        "def saudacao(msg, nome):\n",
        "  return f'{msg}, {nome}!'\n",
        "\n",
        "def executa(funcao,*args):\n",
        "  return funcao(*args)\n",
        "\n",
        "print(executa(saudacao, 'bom dia', 'luiz'))"
      ],
      "metadata": {
        "colab": {
          "base_uri": "https://localhost:8080/"
        },
        "id": "7sXPEuHAmBPW",
        "outputId": "a1c07ada-e967-44b8-927e-5f259dddb201"
      },
      "execution_count": null,
      "outputs": [
        {
          "output_type": "stream",
          "name": "stdout",
          "text": [
            "bom dia, luiz!\n"
          ]
        }
      ]
    },
    {
      "cell_type": "markdown",
      "source": [
        "117) EXERCÍCIO DE FUNÇÕES"
      ],
      "metadata": {
        "id": "rzH0kJ0XpD-Z"
      }
    },
    {
      "cell_type": "code",
      "source": [
        "#CRIAR VARIAS FUNÇÕES QUE PEGAM UMA VARIÁVEL E DOBRA, QUADRUPLICA E SEXPLICA.\n",
        "\n",
        "def duplicar(numero):\n",
        "  return print(f'{numero*2}')\n",
        "\n",
        "def triplicar(numero):\n",
        "  return print(f'{numero*3}')\n",
        "\n",
        "def quadruplicar(numero):\n",
        "  return print(f'{numero*4}')\n",
        "\n",
        "variavel = int(input(\"digite um número qualquer: \"))\n",
        "duplicar(variavel)\n",
        "triplicar(variavel)\n",
        "quadruplicar(variavel)\n",
        "\n"
      ],
      "metadata": {
        "colab": {
          "base_uri": "https://localhost:8080/"
        },
        "id": "SYRiozevpKHo",
        "outputId": "773d56ed-59ee-4573-f937-af7d87217cfc"
      },
      "execution_count": null,
      "outputs": [
        {
          "output_type": "stream",
          "name": "stdout",
          "text": [
            "digite um número qualquer: 2\n",
            "4\n",
            "6\n",
            "8\n"
          ]
        }
      ]
    },
    {
      "cell_type": "markdown",
      "source": [
        "127) CONJUTOS SET\n"
      ],
      "metadata": {
        "id": "0KQthnJ3_xIn"
      }
    },
    {
      "cell_type": "code",
      "source": [
        "#SET SÃO EFICIENTES PARA REMOVER VALORES DUPLICADOS\n",
        "\n",
        "s = set()\n",
        "s.add('luiz')\n",
        "s.add(1)\n",
        "s.update(('ola mundo', 1, 2, 3))\n",
        "#s.clear()\n",
        "print(s)\n"
      ],
      "metadata": {
        "colab": {
          "base_uri": "https://localhost:8080/"
        },
        "id": "kAGf0f8u_2Zl",
        "outputId": "aed7cb63-9f15-4f33-a929-8034b2268933"
      },
      "execution_count": null,
      "outputs": [
        {
          "output_type": "stream",
          "name": "stdout",
          "text": [
            "{'luiz', 1, 2, 'ola mundo', 3}\n"
          ]
        }
      ]
    },
    {
      "cell_type": "code",
      "source": [
        "#operadores úteis:\n",
        "#uniao |\n",
        "#intersecção &\n",
        "#diferença -\n",
        "#diferença simétrica ^\n",
        "\n",
        "s1 = {1,2,3, 5, 7,4}\n",
        "s2 = {2,3,4, 5,77}\n",
        "s3 = s1 | s2\n",
        "s3 = s1 & s2\n",
        "s3 = s1 - s2\n",
        "s3 = s1 ^ s2\n",
        "print(s3)"
      ],
      "metadata": {
        "colab": {
          "base_uri": "https://localhost:8080/"
        },
        "id": "OGO16At9Cs67",
        "outputId": "f85f6848-4b36-429a-c710-ad68bd2df73c"
      },
      "execution_count": null,
      "outputs": [
        {
          "output_type": "stream",
          "name": "stdout",
          "text": [
            "{1, 7, 77}\n"
          ]
        }
      ]
    },
    {
      "cell_type": "markdown",
      "source": [
        "131) e 132) EXERCÍCIO  ENCONTRE O PRIMEIRO DUPLICADO"
      ],
      "metadata": {
        "id": "6jwKhYoSO3DP"
      }
    },
    {
      "cell_type": "code",
      "source": [
        "#crie uma função que encontra o primeiro duplicado considerando o segundo número como a duplicação.\n",
        "#Retorne a duplicação em si.\n",
        "#EX:\n",
        "#[1,2,3,3,4,1] -> 1 e 3 são duplicados (retorne 3).\n",
        "#se não encontrar duplicados na lista retorne -1\n",
        "\n",
        "lista_de_listas_de_inteiros = [[1,2,3,4,5,6,7,8,9,10],   #temos aqui uma determinada base de dados, dessa forma vamos analisar\n",
        " [1,1,3,5,4,3,2,5,6,2],\n",
        " [2,2,3,45,6,7,7,5,6,3],\n",
        " [0,2,4,3,2,0,1,1,3,2]]\n",
        "\n",
        "def encontra_primeiro_duplicado(lista_de_inteiros):        #função para verificar primeiro número duplicado\n",
        "  numeros_checado = set()                                  #checando o número\n",
        "  primeiro_duplicado = -1                                  #caso não encontre esse número, retorna o \"-1\" que simboliza, a não existencia de valores duplicados\n",
        "\n",
        "  for numero in lista_de_inteiros:                         #temos um for, que substitui o valor do parâmentor por \"numero\"\n",
        "    if numero in numeros_checado:                          #verifica o número checado\n",
        "      primeiro_duplicado = numero                          #armazena o primeiro número chegado na variável primeiro_duplicado\n",
        "      break                                                #pausa\n",
        "\n",
        "    numeros_checado.add(numero)\n",
        "  return primeiro_duplicado\n",
        "\n",
        "\n",
        "for lista in lista_de_listas_de_inteiros:\n",
        "  print(lista, encontra_primeiro_duplicado(lista))\n",
        "\n",
        "\n"
      ],
      "metadata": {
        "id": "-1RDcua5D-0k",
        "colab": {
          "base_uri": "https://localhost:8080/"
        },
        "outputId": "b2d2ef35-6435-4b86-fd59-dcc52a40bf9b"
      },
      "execution_count": null,
      "outputs": [
        {
          "output_type": "stream",
          "name": "stdout",
          "text": [
            "[1, 2, 3, 4, 5, 6, 7, 8, 9, 10] -1\n",
            "[1, 1, 3, 5, 4, 3, 2, 5, 6, 2] 2\n",
            "[2, 2, 3, 45, 6, 7, 7, 5, 6, 3] 3\n",
            "[0, 2, 4, 3, 2, 0, 1, 1, 3, 2] 2\n"
          ]
        }
      ]
    },
    {
      "cell_type": "markdown",
      "source": [
        "# **ORIENTADA A OBJETOS**"
      ],
      "metadata": {
        "id": "nXEc2ppXkWyT"
      }
    },
    {
      "cell_type": "markdown",
      "source": [
        "LIVROS DE ORIENTADA A OBJETOS, QUE SÃO ÓTIMOS PARA APRENDER ESSA TOPOLOGIA DE PYTHON:\n",
        "\n",
        "* PHP, PROGRAMAÇÃO ORIENTADA A OBJETOS.\n",
        "* PYTHON FLUENTE, LUCIANO RAMALHO.\n",
        "* PADRÕES DE PROJETOS SOLUÇÕES REUTILIZÁVEIS DE SOFTWARES ORIENTADA A OBJETOS."
      ],
      "metadata": {
        "id": "poO0KkZKkrKe"
      }
    },
    {
      "cell_type": "markdown",
      "source": [
        "\n",
        "\n",
        "*   Class - classes são moldes para criar novos objetos\n",
        "\n",
        "* As classe geram novos objetos (instâncias) que podem ter seus atributos e métodos.\n",
        "* Os objetos gerados pela Classe podem usar seus dados internos para realizar várias ações.\n",
        "*por convenção, usamos PascalCase para nomes de classes.\n",
        "\n",
        "\n",
        "\n"
      ],
      "metadata": {
        "id": "5dq7LMpVmWvu"
      }
    },
    {
      "cell_type": "code",
      "source": [
        "string = 'luiz'\n",
        "print(string.upper())\n",
        "print(isinstance(string, str))"
      ],
      "metadata": {
        "colab": {
          "base_uri": "https://localhost:8080/"
        },
        "id": "2UCISGvppFmZ",
        "outputId": "2ce11ddc-54cf-4de3-edec-a48f40ec6be6"
      },
      "execution_count": null,
      "outputs": [
        {
          "output_type": "stream",
          "name": "stdout",
          "text": [
            "LUIZ\n",
            "True\n"
          ]
        }
      ]
    },
    {
      "cell_type": "code",
      "source": [
        "#para a criação de classe sempre é esse procedimento:\n",
        "class Pessoa:\n",
        "  ...\n",
        "\n",
        "p1 = Pessoa()\n",
        "print(p1)"
      ],
      "metadata": {
        "colab": {
          "base_uri": "https://localhost:8080/"
        },
        "id": "0YBBfr-tqAzK",
        "outputId": "4f0fac59-3163-4ce6-bd14-b80425f9ecfa"
      },
      "execution_count": null,
      "outputs": [
        {
          "output_type": "stream",
          "name": "stdout",
          "text": [
            "<__main__.Pessoa object at 0x7a9838644ee0>\n"
          ]
        }
      ]
    },
    {
      "cell_type": "code",
      "source": [
        "#para a criação de classe sempre é esse procedimento:\n",
        "class Pessoa:\n",
        "  ...\n",
        "\n",
        "p1 = Pessoa()\n",
        "p1.nome = 'Luiz'\n",
        "p1.sobrenome = 'Otávio'\n",
        "print(p1.nome)\n",
        "print(p1.sobrenome)"
      ],
      "metadata": {
        "colab": {
          "base_uri": "https://localhost:8080/"
        },
        "id": "7XFZPtajq0L6",
        "outputId": "da0ed45f-5995-4f62-a636-72050684277b"
      },
      "execution_count": null,
      "outputs": [
        {
          "output_type": "stream",
          "name": "stdout",
          "text": [
            "Luiz\n",
            "Otávio\n"
          ]
        }
      ]
    },
    {
      "cell_type": "code",
      "source": [
        "#para a criação de classe sempre é esse procedimento:\n",
        "class Pessoa: #essa é a classe\n",
        "  ...\n",
        "\n",
        "p1 = Pessoa()   #esse é o objeto, sendo assim, o primeiro objeto\n",
        "p1.nome = 'Luiz'\n",
        "p1.sobrenome = 'Otávio'\n",
        "\n",
        "p2 = Pessoa()\n",
        "p2.nome = 'Maria'\n",
        "p2.sobrenome = 'Joana'\n",
        "\n",
        "\n",
        "\n",
        "print(p1.nome)\n",
        "print(p1.sobrenome)\n",
        "\n",
        "print(p2.nome)\n",
        "print(p2.sobrenome)"
      ],
      "metadata": {
        "colab": {
          "base_uri": "https://localhost:8080/"
        },
        "id": "x45Frt77sLye",
        "outputId": "9b9cda6c-f97f-4ca7-ec24-acd8b17fcef2"
      },
      "execution_count": null,
      "outputs": [
        {
          "output_type": "stream",
          "name": "stdout",
          "text": [
            "Luiz\n",
            "Otávio\n",
            "Maria\n",
            "Joana\n"
          ]
        }
      ]
    },
    {
      "cell_type": "code",
      "source": [
        "#metodo init que inicializa todos os atributos de uma classe.\n",
        "\n",
        "#para a criação de classe sempre é esse procedimento:\n",
        "class Pessoa: #essa é a classe\n",
        "  def __init__(self, nome, sobrenome):  #na criação da classe podemos criar argumentos.\n",
        "    self.nome = nome\n",
        "    self.sobrenome = sobrenome\n",
        "    ...\n",
        "\n",
        "#quando criamos uma classe, temos um próprio molde, e com a criação desses moldes obtemos o próprio self.\n",
        "\n",
        "p1 = Pessoa('Luiz', 'Otávio')   #esse é o objeto, sendo assim, o primeiro objeto\n",
        "#p1.nome = 'Luiz'\n",
        "#p1.sobrenome = 'Otávio'\n",
        "\n",
        "p2 = Pessoa('Maria', 'Joana') #simplifica o objeto.\n",
        "#p2.nome = 'Maria'\n",
        "#p2.sobrenome = 'Joana'\n",
        "\n",
        "\n",
        "\n",
        "print(p1.nome)\n",
        "print(p1.sobrenome)\n",
        "\n",
        "print(p2.nome)\n",
        "print(p2.sobrenome)"
      ],
      "metadata": {
        "colab": {
          "base_uri": "https://localhost:8080/"
        },
        "id": "4s8w-2IPv-Z2",
        "outputId": "741eea46-947d-492f-b519-31bbdb8305fa"
      },
      "execution_count": null,
      "outputs": [
        {
          "output_type": "stream",
          "name": "stdout",
          "text": [
            "Luiz\n",
            "Otávio\n",
            "Maria\n",
            "Joana\n"
          ]
        }
      ]
    },
    {
      "cell_type": "code",
      "source": [
        "#Métodos em instâncias de Classe Python\n",
        "\n",
        "#primeiramente criar uma classe:\n",
        "class Carro: #essa é a classe\n",
        "  def __init__(self,nome):  #na criação da classe podemos criar argumentos.\n",
        "    self.nome = nome        #self é como se fosse um parâmetro que cria variável nome\n",
        "\n",
        "  def acelerar(self):  #nessa função temos um método para determinar uma ação a cada objeto dessa classe\n",
        "    print(f'{self.nome} esta acelerando...')\n",
        "\n",
        "fusca = Carro('Fusca')\n",
        "print(fusca.nome)\n",
        "fusca.acelerar()\n",
        "\n",
        "celta = Carro('Celta')\n",
        "print(celta.nome)\n",
        "celta.acelerar()\n",
        "\n",
        "uno = Carro('Uno')\n",
        "print(uno.nome)\n",
        "uno.acelerar()\n",
        "\n",
        "gol = Carro('Gol')\n",
        "print(gol.nome)\n",
        "gol.acelerar()\n",
        "\n",
        "hillux = Carro('Hillux')\n",
        "print(hillux.nome)\n",
        "hillux.acelerar()\n",
        "\n",
        "corola = Carro('Corola')\n",
        "print(corola.nome)\n",
        "corola.acelerar()\n",
        "\n",
        "versa = Carro('Versa')\n",
        "print(versa.nome)\n",
        "versa.acelerar()\n",
        "\n",
        "renegade = Carro('Renegade')\n",
        "print(renegade.nome)\n",
        "renegade.acelerar()\n",
        "\n",
        "siena = Carro('Siena')\n",
        "print(siena.nome)\n",
        "siena.acelerar()\n",
        "\n",
        "camaro = Carro('Camaro')\n",
        "print(camaro.nome)\n",
        "camaro.acelerar()\n",
        "\n",
        "chana = Carro('Chana')        #dado essa repetição exaustiva é perceptível que temos a classe carro, e objetos como\n",
        "print(chana.nome)             #alguns modelos de carros com características distintas.\n",
        "chana.acelerar()              #método é uma função que esta dentro da classe que geralmente usa a princípio o self.\n",
        "                              #lembrando que esse selfie nada mais é que uma convenção.\n",
        "\n",
        "\n"
      ],
      "metadata": {
        "colab": {
          "base_uri": "https://localhost:8080/"
        },
        "id": "r3hToMJuqFgF",
        "outputId": "02af10e4-53a1-400d-f9ec-04ff8f61c5e2"
      },
      "execution_count": null,
      "outputs": [
        {
          "output_type": "stream",
          "name": "stdout",
          "text": [
            "Fusca\n",
            "Fusca esta acelerando...\n",
            "Celta\n",
            "Celta esta acelerando...\n",
            "Uno\n",
            "Uno esta acelerando...\n",
            "Gol\n",
            "Gol esta acelerando...\n",
            "Hillux\n",
            "Hillux esta acelerando...\n",
            "Corola\n",
            "Corola esta acelerando...\n",
            "Versa\n",
            "Versa esta acelerando...\n",
            "Renegade\n",
            "Renegade esta acelerando...\n",
            "Siena\n",
            "Siena esta acelerando...\n",
            "Camaro\n",
            "Camaro esta acelerando...\n",
            "Chana\n",
            "Chana esta acelerando...\n"
          ]
        }
      ]
    },
    {
      "cell_type": "code",
      "source": [
        "#Escopo da Classe e de métodos da Classe\n",
        "\n",
        "class Curso:\n",
        "\n",
        "  def __init__(self,nome):\n",
        "    self.nome = nome\n",
        "\n",
        "    variavel = 'valor'\n",
        "    print(variavel)\n",
        "\n",
        "  def fazer(self, quando):                           #estamos criando qualquer método.\n",
        "    return f'Vou cursar {self.nome} em {quando}'     #aqui a gente consegue descrever uma ação so com as variáveis\n",
        "\n",
        "\n",
        "engenharia = Curso('Engenharia')\n",
        "print(engenharia.nome)\n",
        "print(engenharia.fazer(str(input(\"quando vc vai fazer: \"))))\n"
      ],
      "metadata": {
        "colab": {
          "base_uri": "https://localhost:8080/"
        },
        "id": "t7sCpYN33r7g",
        "outputId": "9bac5665-923a-4d68-caa7-33681803b0df"
      },
      "execution_count": null,
      "outputs": [
        {
          "output_type": "stream",
          "name": "stdout",
          "text": [
            "valor\n",
            "Engenharia\n",
            "quando vc vai fazer: 2025\n",
            "Vou cursar Engenharia em 2025\n"
          ]
        }
      ]
    },
    {
      "cell_type": "code",
      "source": [
        "class Camera:        #criamos uma classe de camera.\n",
        "\n",
        "  def __init__(self,nome,filmando=False): #quando eu ligo minha camera ela não está filmando     #nomeamos o objeto através desses parâmetro e definimos o estado\n",
        "    self.nome = nome                          #as minhas instâncias podem carregar estados\n",
        "    self.filmando = filmando\n",
        "\n",
        "  def filmar(self):        #metodos para, analisar tal objeto:\n",
        "    if self.filmando:      #self filmando for verdade,\n",
        "      print(f'{self.nome} Já está filmando...')\n",
        "      return\n",
        "\n",
        "    print(f'{self.nome} está filmando...')  #aqui é um else, se o self.filmando não estiver filmando, é pra botar pra filmar.\n",
        "    self.filmando = True\n",
        "\n",
        "  def parar_filmar(self):\n",
        "    if not self.filmando:\n",
        "      print(f'{self.nome} Já está filmando...')\n",
        "      return\n",
        "\n",
        "    print(f'{self.nome} está parando de filmar...')\n",
        "    self.filmando = True\n",
        "\n",
        "  def fotografar(self):\n",
        "    if self.filmando:\n",
        "      print(f'{self.nome} não pode fotografar filmando')\n",
        "      return\n",
        "\n",
        "    print('{self.nome} está fotografando....')\n",
        "    self.filmando = True\n",
        "\n",
        "\n",
        "\n",
        "c1 = Camera('Canon')\n",
        "c2 = Camera('Sony')\n",
        "c1.filmar()\n",
        "c1.filmar()\n",
        "c1.fotografar()      #criamos estados dentro de uma classe.\n",
        "c1.parar_filmar()    #criamos dados dentro de um objeto."
      ],
      "metadata": {
        "colab": {
          "base_uri": "https://localhost:8080/"
        },
        "id": "jjF7PQx57de3",
        "outputId": "5480c608-a029-474d-9d62-c305d27a0e22"
      },
      "execution_count": null,
      "outputs": [
        {
          "output_type": "stream",
          "name": "stdout",
          "text": [
            "Canon está filmando...\n",
            "Canon Já está filmando...\n",
            "Canon não pode fotografar filmando\n",
            "Canon está parando de filmar...\n"
          ]
        }
      ]
    },
    {
      "cell_type": "code",
      "source": [
        "class Pessoa:\n",
        "  ano_atual = 2024   #atributo de classe\n",
        "\n",
        "  def __init__(self,nome, idade):\n",
        "    self.nome = nome\n",
        "    self.idade = idade\n",
        "\n",
        "  def get_ano_nascimento(self):\n",
        "    return self.ano_atual - self.idade\n",
        "\n",
        "\n",
        "\n",
        "pessoas = []   # Criei uma lista vazia\n",
        "\n",
        "for i in range(3):\n",
        "    pessoa = Pessoa(input(\"Nome da pessoa: \"), int(input('Idade da pessoa: ')))\n",
        "    pessoas.append(pessoa)\n",
        "\n",
        "# Loop para imprimir o nome de cada pessoa na lista\n",
        "for pessoa in pessoas:\n",
        "    print(pessoa.nome)\n",
        "    print(pessoa.get_ano_nascimento())"
      ],
      "metadata": {
        "colab": {
          "base_uri": "https://localhost:8080/"
        },
        "id": "mU4pJ_7N_g2B",
        "outputId": "38789067-c6ef-4d42-86d1-2aa89820e67b"
      },
      "execution_count": null,
      "outputs": [
        {
          "output_type": "stream",
          "name": "stdout",
          "text": [
            "Nome da pessoa: gustavo \n",
            "Idade da pessoa: 12\n",
            "Nome da pessoa: luiz\n",
            "Idade da pessoa: 55\n",
            "Nome da pessoa: otávio\n",
            "Idade da pessoa: 33\n",
            "gustavo \n",
            "2012\n",
            "luiz\n",
            "1969\n",
            "otávio\n",
            "1991\n"
          ]
        }
      ]
    },
    {
      "cell_type": "code",
      "source": [
        "# __dict__ evars para atributos de instâncias\n",
        "\n",
        "class Pessoa:\n",
        "\n",
        "  ano_atual = 2024\n",
        "\n",
        "  def __init__(self, nome, idade):\n",
        "    self.nome = nome\n",
        "    self.idade = idade\n",
        "\n",
        "  def get_ano_nascimento(self):\n",
        "    return Pessoa.ano_atual - self.idade\n",
        "\n",
        "\n",
        "\n",
        "pessoas = []   # Criei uma lista vazia\n",
        "\n",
        "for i in range(3):\n",
        "    pessoa = Pessoa(input(\"Nome da pessoa: \"), int(input('Idade da pessoa: ')))\n",
        "    pessoas.append(pessoa)\n",
        "\n",
        "# Loop para imprimir o nome de cada pessoa na lista\n",
        "for pessoa in pessoas:\n",
        "    print(pessoa.nome)\n",
        "    print(pessoa.get_ano_nascimento())\n",
        "\n",
        "print(pessoas[-1].__dict__)\n",
        "\n",
        "\n",
        "\n",
        "\n",
        "\n"
      ],
      "metadata": {
        "colab": {
          "base_uri": "https://localhost:8080/"
        },
        "id": "lPQ0_i6yHC6U",
        "outputId": "2c2c54f4-0e1f-4181-91f2-64ce97fa038b"
      },
      "execution_count": null,
      "outputs": [
        {
          "output_type": "stream",
          "name": "stdout",
          "text": [
            "Nome da pessoa: h\n",
            "Idade da pessoa: 8\n",
            "Nome da pessoa: ii\n",
            "Idade da pessoa: 9\n",
            "Nome da pessoa: nn\n",
            "Idade da pessoa: 4\n",
            "h\n",
            "2016\n",
            "ii\n",
            "2015\n",
            "nn\n",
            "2020\n",
            "{'nome': 'nn', 'idade': 4}\n"
          ]
        }
      ]
    },
    {
      "cell_type": "code",
      "source": [
        "# __dict__ evars para atributos de instâncias\n",
        "\n",
        "class Pessoa:\n",
        "\n",
        "  ano_atual = 2024\n",
        "\n",
        "  def __init__(self, nome, idade):\n",
        "    self.nome = nome\n",
        "    self.idade = idade\n",
        "\n",
        "  def get_ano_nascimento(self):\n",
        "    return Pessoa.ano_atual - self.idade\n",
        "\n",
        "\n",
        "dados = {'nome': 'João', 'idade': 35}\n",
        "p1 = Pessoa(**dados)\n",
        "\n",
        "print(vars(p1))\n",
        "print(p1.nome)\n"
      ],
      "metadata": {
        "colab": {
          "base_uri": "https://localhost:8080/"
        },
        "id": "Ij_SMB7zM3LE",
        "outputId": "69300ea6-6735-4775-b094-e1558b024d4e"
      },
      "execution_count": null,
      "outputs": [
        {
          "output_type": "stream",
          "name": "stdout",
          "text": [
            "{'nome': 'João', 'idade': 35}\n",
            "João\n"
          ]
        }
      ]
    },
    {
      "cell_type": "code",
      "source": [
        "#Métodos de Classe + Factories (fabricas)\n",
        "#são métodos onde \"self\" será \"cls\", ou seja,\n",
        "#ao inves de receber a instância no primeiro\n",
        "#parâmetro, receberemos a própria classe\n",
        "\n",
        "\n",
        "class Pessoa:\n",
        "\n",
        "  ano = 2024\n",
        "\n",
        "  def __init__(self,nome, idade):\n",
        "    self.nome = nome\n",
        "    self.idade = idade\n",
        "\n",
        "  @classmethod\n",
        "  def metodo_de_classe(cls):\n",
        "    print('Hey')\n",
        "\n",
        "  @classmethod\n",
        "  def criar_com_50_anos(cls,nome):\n",
        "    return cls(nome, 50)\n",
        "\n",
        "\n",
        "\n",
        "p1 = Pessoa('João', 34)\n",
        "p2 = Pessoa.criar_com_50_anos('Helena')\n",
        "print(p2.nome, p2.idade)\n",
        "Pessoa.metodo_de_classe()"
      ],
      "metadata": {
        "id": "NS6zKvH-N4G7",
        "colab": {
          "base_uri": "https://localhost:8080/"
        },
        "outputId": "e4d70789-78ed-4a77-f078-91fa69eaa7b5"
      },
      "execution_count": null,
      "outputs": [
        {
          "output_type": "stream",
          "name": "stdout",
          "text": [
            "Helena 50\n",
            "Hey\n"
          ]
        }
      ]
    },
    {
      "cell_type": "markdown",
      "source": [
        "# **DJANGO, FRAMEWORK PARA SITES**"
      ],
      "metadata": {
        "id": "E0Cqxfs4YFbu"
      }
    },
    {
      "cell_type": "code",
      "source": [],
      "metadata": {
        "id": "wfIw4q-gYa4E"
      },
      "execution_count": null,
      "outputs": []
    }
  ]
}