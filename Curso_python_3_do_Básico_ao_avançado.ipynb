{
  "nbformat": 4,
  "nbformat_minor": 0,
  "metadata": {
    "colab": {
      "provenance": [],
      "authorship_tag": "ABX9TyNJ4tnoIFXcs4BXKEe9TJlu",
      "include_colab_link": true
    },
    "kernelspec": {
      "name": "python3",
      "display_name": "Python 3"
    },
    "language_info": {
      "name": "python"
    }
  },
  "cells": [
    {
      "cell_type": "markdown",
      "metadata": {
        "id": "view-in-github",
        "colab_type": "text"
      },
      "source": [
        "<a href=\"https://colab.research.google.com/github/dislaybim/notebook-python-POO/blob/main/Curso_python_3_do_B%C3%A1sico_ao_avan%C3%A7ado.ipynb\" target=\"_parent\"><img src=\"https://colab.research.google.com/assets/colab-badge.svg\" alt=\"Open In Colab\"/></a>"
      ]
    },
    {
      "cell_type": "code",
      "source": [],
      "metadata": {
        "id": "vMLJkmwzUfHB"
      },
      "execution_count": null,
      "outputs": []
    },
    {
      "cell_type": "markdown",
      "source": [],
      "metadata": {
        "id": "NqPtemfMbDdZ"
      }
    },
    {
      "cell_type": "code",
      "execution_count": null,
      "metadata": {
        "colab": {
          "base_uri": "https://localhost:8080/"
        },
        "id": "FEfghyGEiWOn",
        "outputId": "747d8b81-8197-4e04-dbad-30fdbc70719c"
      },
      "outputs": [
        {
          "output_type": "stream",
          "name": "stdout",
          "text": [
            "False\n"
          ]
        }
      ],
      "source": [
        "print(2.22==2)"
      ]
    },
    {
      "cell_type": "code",
      "source": [
        "a = 3/3\n",
        "print(a)"
      ],
      "metadata": {
        "colab": {
          "base_uri": "https://localhost:8080/"
        },
        "id": "Y634iPQzUizU",
        "outputId": "abb84b13-dd25-468d-9e73-d37d95921e60"
      },
      "execution_count": null,
      "outputs": [
        {
          "output_type": "stream",
          "name": "stdout",
          "text": [
            "1.0\n"
          ]
        }
      ]
    },
    {
      "cell_type": "markdown",
      "source": [
        "Introdução ás funções (def) em Python:\n",
        "funções são trechos de código usados para replicar determinada ação ao longo do seu código.\n",
        "Elas podem receber valores para parâmetros (argumentos) e retornar um valor específico.\n",
        "Por padrão, função python retornam nome(nada)."
      ],
      "metadata": {
        "id": "CdI5JxiMw3zs"
      }
    },
    {
      "cell_type": "code",
      "source": [
        "def saudacao(nome = ' sem nome'):   #definimos um valor inicial para os parâmetros dessa funão\n",
        "  print(f'Olá, {nome}!')\n",
        "\n",
        "saudacao('luiz') #ao decorrer do código compilamos essa função, apresentando um novo valor que substitui o valor antigo da variável\n",
        "saudacao('gaturiano')\n",
        "saudacao()"
      ],
      "metadata": {
        "colab": {
          "base_uri": "https://localhost:8080/"
        },
        "id": "OFXhMa8kxcsf",
        "outputId": "78aa2e9c-2efc-42dc-a31e-fe2f04831049"
      },
      "execution_count": null,
      "outputs": [
        {
          "output_type": "stream",
          "name": "stdout",
          "text": [
            "Olá, luiz!\n",
            "Olá, gaturiano!\n",
            "Olá,  sem nome!\n"
          ]
        }
      ]
    },
    {
      "cell_type": "code",
      "source": [
        "def soma(x,y,z):#parâmetros\n",
        "  #definição da função\n",
        "  print(f'{x=} y={y} {z=}', '|','x+y+z = ',x+y+z)\n",
        "\n",
        "soma(1,2,3)#argumentos da função\n",
        "soma(1,y=2,z=5)#retorna um valor none\n",
        "\n",
        "print(1,2,3, sep='-')"
      ],
      "metadata": {
        "colab": {
          "base_uri": "https://localhost:8080/"
        },
        "id": "z4uiN2gr2NTz",
        "outputId": "8d892cbd-8aed-4e72-dae7-893e6f75313c"
      },
      "execution_count": null,
      "outputs": [
        {
          "output_type": "stream",
          "name": "stdout",
          "text": [
            "x=1 y=2 z=3 | x+y+z =  6\n",
            "x=1 y=2 z=5 | x+y+z =  8\n",
            "1-2-3\n"
          ]
        }
      ]
    },
    {
      "cell_type": "code",
      "source": [
        " #Valores padrão para parâmetros\n",
        " #Ao definir um função, os parâmentos podem\n",
        " #ter valores padrao.Caso o valor não seja\n",
        " #enviado para o parâmetro, o valor padrão será usado.\n",
        " #Refatorar:\n",
        "\n",
        "def soma(x,y, z=None):#z=None, significa que o espaço não é preenchido, null\n",
        "  if z is not None:#verificar se z é preenchido\n",
        "    print(f'{x=} {y=} {z=}','|','x+y+z = ',x+y+z)\n",
        "  else:#se z não for preenchido a condição se altera\n",
        "    print(f'{x=} {y=}','|','x+y =',x+y)\n",
        "\n",
        "soma(1,2)#z=none\n",
        "soma(3,5)#z=none\n",
        "soma(100,200)#z=none\n",
        "soma(2,4,10)#z=!none\n",
        "soma(24,24,24)#z=!none\n",
        "\n",
        "\n",
        "\n"
      ],
      "metadata": {
        "colab": {
          "base_uri": "https://localhost:8080/"
        },
        "id": "RtUifOzPYao0",
        "outputId": "317c0eef-9bfb-412d-9c4b-6a6b78fa350a"
      },
      "execution_count": null,
      "outputs": [
        {
          "output_type": "stream",
          "name": "stdout",
          "text": [
            "x=1 y=2 | x+y = 3\n",
            "x=3 y=5 | x+y = 8\n",
            "x=100 y=200 | x+y = 300\n",
            "x=2 y=4 z=10 | x+y+z =  16\n",
            "x=24 y=24 z=24 | x+y+z =  72\n"
          ]
        }
      ]
    },
    {
      "cell_type": "markdown",
      "source": [
        "Escopo de funções em python\n",
        "escopo significa o local onde aquele código pode atingir.\n",
        "existeo escopo global e local.\n",
        "O escopo global é o escopo onde todo o código é alcançavel.\n",
        "o escopo local é o escopo onde apenas nomes do mesmo localpodem ser alcançados."
      ],
      "metadata": {
        "id": "T9exUKlPe9hE"
      }
    },
    {
      "cell_type": "code",
      "source": [
        "from ast import Delete\n",
        "#o'que eu defino dentro da função fica protegido na função\n",
        "#consigo definir a variável x no escopo externo\n",
        "\n",
        "y = int(input('adicione um número: '))\n",
        "x=1  #por isso que não é bom adotar variáveis globais para o nosso código.\n",
        "#\n",
        "\n",
        "def escopo():\n",
        "  global x  #define o x interno dessa função como a variável global\n",
        "  x=10  #temos essa variável x que seta definida dentro da função\n",
        "  print(x)\n",
        "  print(y)\n",
        "  def outra_funcao():\n",
        "    #global x\n",
        "    x = 12\n",
        "    y = 3\n",
        "    print(x, y)\n",
        "  outra_funcao()\n",
        "\n",
        "\n",
        "print(x)\n",
        "escopo()\n",
        "print(x)\n",
        "\n",
        "\n",
        "\n",
        "\n",
        "\n"
      ],
      "metadata": {
        "colab": {
          "base_uri": "https://localhost:8080/"
        },
        "id": "MWG3R_phkVc1",
        "outputId": "b7c1ebca-edd4-4227-8b26-48b947bce806"
      },
      "execution_count": null,
      "outputs": [
        {
          "output_type": "stream",
          "name": "stdout",
          "text": [
            "adicione um número: 4\n",
            "1\n",
            "10\n",
            "4\n",
            "12 3\n",
            "10\n"
          ]
        }
      ]
    },
    {
      "cell_type": "markdown",
      "source": [
        "AULA 110) Retorno das funções"
      ],
      "metadata": {
        "id": "ACRVXKv-Oxki"
      }
    },
    {
      "cell_type": "code",
      "source": [
        "variavel = print('luiz')\n",
        "print(variavel)#vai aparecer o print e depois o valor da variável que será vazia."
      ],
      "metadata": {
        "colab": {
          "base_uri": "https://localhost:8080/"
        },
        "id": "pu1YEYDtO7Ui",
        "outputId": "9eef27e2-051a-4e57-f27c-1717c473a86d"
      },
      "execution_count": null,
      "outputs": [
        {
          "output_type": "stream",
          "name": "stdout",
          "text": [
            "luiz\n",
            "None\n"
          ]
        }
      ]
    },
    {
      "cell_type": "code",
      "source": [
        "def soma(x,y):\n",
        "  print('olha')\n",
        "  print('só')\n",
        "  print('que')\n",
        "  print('legal')\n",
        "  return x+y    #essa diretiva retun é bastante relevante, haja vista que tal função devera retornar esse seguinte valor.\n",
        "               #retorna valor de dentro da função\n",
        "               #essa palavra return é como se fosse um break que para o processamento do código e retorna o valor exato\n",
        "abc = soma(1,2)\n",
        "print(abc)\n"
      ],
      "metadata": {
        "colab": {
          "base_uri": "https://localhost:8080/"
        },
        "id": "cG9ieczkQfzm",
        "outputId": "0494007b-9b53-43c4-d0a1-5e63ff2dcf76"
      },
      "execution_count": null,
      "outputs": [
        {
          "output_type": "stream",
          "name": "stdout",
          "text": [
            "olha\n",
            "só\n",
            "que\n",
            "legal\n",
            "3\n"
          ]
        }
      ]
    },
    {
      "cell_type": "markdown",
      "source": [
        "111) *args para quantidade de argumentos\n"
      ],
      "metadata": {
        "id": "4F-DlGuMZ58q"
      }
    },
    {
      "cell_type": "code",
      "source": [
        "#args - Argumentos nomeados\n",
        "# * - *args (empacotamentos e desempacotamento)\n",
        "\n",
        "x, y, *resto = 1,2,3,4\n",
        "print(x,y,resto)\n",
        "\n",
        "\n",
        "def soma(*args):\n",
        "  print(args, type(args))\n",
        "\n",
        "soma(1,2,3,4,5,6)\n"
      ],
      "metadata": {
        "colab": {
          "base_uri": "https://localhost:8080/"
        },
        "id": "gctUAzUNaBW1",
        "outputId": "b5b73064-0572-46a8-eddb-6bd020d42ff5"
      },
      "execution_count": null,
      "outputs": [
        {
          "output_type": "stream",
          "name": "stdout",
          "text": [
            "1 2 [3, 4]\n",
            "(1, 2, 3, 4, 5, 6) <class 'tuple'>\n"
          ]
        }
      ]
    },
    {
      "cell_type": "code",
      "source": [
        "x, y, *resto = 1,2,3,4\n",
        "print(x,y,resto)\n",
        "\n",
        "\n",
        "def soma(*args):\n",
        "  total = 0\n",
        "  for numero in args:\n",
        "    total = total +numero\n",
        "  return total\n",
        "\n",
        "a = soma(1,2,3,4,5,6)\n",
        "print(a)\n"
      ],
      "metadata": {
        "colab": {
          "base_uri": "https://localhost:8080/"
        },
        "id": "jeWlRZ8kbkM8",
        "outputId": "c37e7483-146c-42d5-f692-cf922b9c9907"
      },
      "execution_count": null,
      "outputs": [
        {
          "output_type": "stream",
          "name": "stdout",
          "text": [
            "1 2 [3, 4]\n",
            "21\n"
          ]
        }
      ]
    },
    {
      "cell_type": "markdown",
      "source": [
        "AULA 113) EXERCÍCIO:\n"
      ],
      "metadata": {
        "id": "_5PdgLkgdCNq"
      }
    },
    {
      "cell_type": "code",
      "source": [
        "#CRIE UMA FUNÇÃO QUE MULTIPLICA TODO OS ARGUMENTOS\n",
        "#NÃO NOMEADOS RECEBIDOS\n",
        "#RETORNE O TOTAL PARA UMA VARIÁVEL E MOSTRE O VALOR\n",
        "#DA VARIÁVEL\n",
        "#CRIE UMA FUNÇÃO QUE FALE SE O NÚMERO É IMPAR OU PAR.\n",
        "\n",
        "def multiplica(*args): #função com varios argumentos não nomeados\n",
        "  total = 1\n",
        "  for numero in args:\n",
        "    total *= numero\n",
        "  return total\n",
        "\n",
        "def par_impar(valor):   #função para verificar se é par ou ímpar\n",
        "  if(valor % 2 == 0):\n",
        "    return print(f'{valor} é  PAR!!!')\n",
        "  return print(f'{valor} é  ÍMPAR!!!')\n",
        "\n",
        "resultado = multiplica(1,2,3)\n",
        "print(resultado)\n",
        "\n",
        "escolha = int(input(\"escolha qualquer numero inteiro: \"))\n",
        "par_impar(escolha)\n",
        "\n",
        "\n",
        "\n",
        "\n"
      ],
      "metadata": {
        "colab": {
          "base_uri": "https://localhost:8080/"
        },
        "id": "Y5RMAxc-dH1P",
        "outputId": "3b3ff5e0-7df6-4852-c8da-7194ae4dadc4"
      },
      "execution_count": null,
      "outputs": [
        {
          "output_type": "stream",
          "name": "stdout",
          "text": [
            "6\n",
            "escolha qualquer numero inteiro: 6666\n",
            "6666 é  PAR!!!\n"
          ]
        }
      ]
    },
    {
      "cell_type": "markdown",
      "source": [
        "114) FUNÇÂO PRIMEIRA ORDEM\n"
      ],
      "metadata": {
        "id": "4mzPUBy2l79Y"
      }
    },
    {
      "cell_type": "code",
      "source": [
        "def saudacao(msg, nome):\n",
        "  return f'{msg}, {nome}!'\n",
        "\n",
        "def executa(funcao,*args):\n",
        "  return funcao(*args)\n",
        "\n",
        "print(executa(saudacao, 'bom dia', 'luiz'))"
      ],
      "metadata": {
        "colab": {
          "base_uri": "https://localhost:8080/"
        },
        "id": "7sXPEuHAmBPW",
        "outputId": "a1c07ada-e967-44b8-927e-5f259dddb201"
      },
      "execution_count": null,
      "outputs": [
        {
          "output_type": "stream",
          "name": "stdout",
          "text": [
            "bom dia, luiz!\n"
          ]
        }
      ]
    },
    {
      "cell_type": "markdown",
      "source": [
        "117) EXERCÍCIO DE FUNÇÕES"
      ],
      "metadata": {
        "id": "rzH0kJ0XpD-Z"
      }
    },
    {
      "cell_type": "code",
      "source": [
        "#CRIAR VARIAS FUNÇÕES QUE PEGAM UMA VARIÁVEL E DOBRA, QUADRUPLICA E SEXPLICA.\n",
        "\n",
        "def duplicar(numero):\n",
        "  return print(f'{numero*2}')\n",
        "\n",
        "def triplicar(numero):\n",
        "  return print(f'{numero*3}')\n",
        "\n",
        "def quadruplicar(numero):\n",
        "  return print(f'{numero*4}')\n",
        "\n",
        "variavel = int(input(\"digite um número qualquer: \"))\n",
        "duplicar(variavel)\n",
        "triplicar(variavel)\n",
        "quadruplicar(variavel)\n",
        "\n"
      ],
      "metadata": {
        "colab": {
          "base_uri": "https://localhost:8080/"
        },
        "id": "SYRiozevpKHo",
        "outputId": "773d56ed-59ee-4573-f937-af7d87217cfc"
      },
      "execution_count": null,
      "outputs": [
        {
          "output_type": "stream",
          "name": "stdout",
          "text": [
            "digite um número qualquer: 2\n",
            "4\n",
            "6\n",
            "8\n"
          ]
        }
      ]
    },
    {
      "cell_type": "markdown",
      "source": [
        "127) CONJUTOS SET\n"
      ],
      "metadata": {
        "id": "0KQthnJ3_xIn"
      }
    },
    {
      "cell_type": "code",
      "source": [
        "#SET SÃO EFICIENTES PARA REMOVER VALORES DUPLICADOS\n",
        "\n",
        "s = set()\n",
        "s.add('luiz')\n",
        "s.add(1)\n",
        "s.update(('ola mundo', 1, 2, 3))\n",
        "#s.clear()\n",
        "print(s)\n"
      ],
      "metadata": {
        "colab": {
          "base_uri": "https://localhost:8080/"
        },
        "id": "kAGf0f8u_2Zl",
        "outputId": "aed7cb63-9f15-4f33-a929-8034b2268933"
      },
      "execution_count": null,
      "outputs": [
        {
          "output_type": "stream",
          "name": "stdout",
          "text": [
            "{'luiz', 1, 2, 'ola mundo', 3}\n"
          ]
        }
      ]
    },
    {
      "cell_type": "code",
      "source": [
        "#operadores úteis:\n",
        "#uniao |\n",
        "#intersecção &\n",
        "#diferença -\n",
        "#diferença simétrica ^\n",
        "\n",
        "s1 = {1,2,3, 5, 7,4}\n",
        "s2 = {2,3,4, 5,77}\n",
        "s3 = s1 | s2\n",
        "s3 = s1 & s2\n",
        "s3 = s1 - s2\n",
        "s3 = s1 ^ s2\n",
        "print(s3)"
      ],
      "metadata": {
        "colab": {
          "base_uri": "https://localhost:8080/"
        },
        "id": "OGO16At9Cs67",
        "outputId": "f85f6848-4b36-429a-c710-ad68bd2df73c"
      },
      "execution_count": null,
      "outputs": [
        {
          "output_type": "stream",
          "name": "stdout",
          "text": [
            "{1, 7, 77}\n"
          ]
        }
      ]
    },
    {
      "cell_type": "markdown",
      "source": [
        "131) e 132) EXERCÍCIO  ENCONTRE O PRIMEIRO DUPLICADO"
      ],
      "metadata": {
        "id": "6jwKhYoSO3DP"
      }
    },
    {
      "cell_type": "code",
      "source": [
        "#crie uma função que encontra o primeiro duplicado considerando o segundo número como a duplicação.\n",
        "#Retorne a duplicação em si.\n",
        "#EX:\n",
        "#[1,2,3,3,4,1] -> 1 e 3 são duplicados (retorne 3).\n",
        "#se não encontrar duplicados na lista retorne -1\n",
        "\n",
        "lista_de_listas_de_inteiros = [[1,2,3,4,5,6,7,8,9,10],   #temos aqui uma determinada base de dados, dessa forma vamos analisar\n",
        " [1,1,3,5,4,3,2,5,6,2],\n",
        " [2,2,3,45,6,7,7,5,6,3],\n",
        " [0,2,4,3,2,0,1,1,3,2]]\n",
        "\n",
        "def encontra_primeiro_duplicado(lista_de_inteiros):        #função para verificar primeiro número duplicado\n",
        "  numeros_checado = set()                                  #checando o número\n",
        "  primeiro_duplicado = -1                                  #caso não encontre esse número, retorna o \"-1\" que simboliza, a não existencia de valores duplicados\n",
        "\n",
        "  for numero in lista_de_inteiros:                         #temos um for, que substitui o valor do parâmentor por \"numero\"\n",
        "    if numero in numeros_checado:                          #verifica o número checado\n",
        "      primeiro_duplicado = numero                          #armazena o primeiro número chegado na variável primeiro_duplicado\n",
        "      break                                                #pausa\n",
        "\n",
        "    numeros_checado.add(numero)\n",
        "  return primeiro_duplicado\n",
        "\n",
        "\n",
        "for lista in lista_de_listas_de_inteiros:\n",
        "  print(lista, encontra_primeiro_duplicado(lista))\n",
        "\n",
        "\n"
      ],
      "metadata": {
        "id": "-1RDcua5D-0k",
        "colab": {
          "base_uri": "https://localhost:8080/"
        },
        "outputId": "b2d2ef35-6435-4b86-fd59-dcc52a40bf9b"
      },
      "execution_count": null,
      "outputs": [
        {
          "output_type": "stream",
          "name": "stdout",
          "text": [
            "[1, 2, 3, 4, 5, 6, 7, 8, 9, 10] -1\n",
            "[1, 1, 3, 5, 4, 3, 2, 5, 6, 2] 2\n",
            "[2, 2, 3, 45, 6, 7, 7, 5, 6, 3] 3\n",
            "[0, 2, 4, 3, 2, 0, 1, 1, 3, 2] 2\n"
          ]
        }
      ]
    },
    {
      "cell_type": "markdown",
      "source": [
        "# **ORIENTADA A OBJETOS**"
      ],
      "metadata": {
        "id": "nXEc2ppXkWyT"
      }
    },
    {
      "cell_type": "markdown",
      "source": [
        "LIVROS DE ORIENTADA A OBJETOS, QUE SÃO ÓTIMOS PARA APRENDER ESSA TOPOLOGIA DE PYTHON:\n",
        "\n",
        "* PHP, PROGRAMAÇÃO ORIENTADA A OBJETOS.\n",
        "* PYTHON FLUENTE, LUCIANO RAMALHO.\n",
        "* PADRÕES DE PROJETOS SOLUÇÕES REUTILIZÁVEIS DE SOFTWARES ORIENTADA A OBJETOS."
      ],
      "metadata": {
        "id": "poO0KkZKkrKe"
      }
    },
    {
      "cell_type": "markdown",
      "source": [
        "\n",
        "\n",
        "*   Class - classes são moldes para criar novos objetos\n",
        "\n",
        "* As classe geram novos objetos (instâncias) que podem ter seus atributos e métodos.\n",
        "* Os objetos gerados pela Classe podem usar seus dados internos para realizar várias ações.\n",
        "*por convenção, usamos PascalCase para nomes de classes.\n",
        "\n",
        "\n",
        "\n"
      ],
      "metadata": {
        "id": "5dq7LMpVmWvu"
      }
    },
    {
      "cell_type": "code",
      "source": [
        "string = 'luiz'\n",
        "print(string.upper())\n",
        "print(isinstance(string, str))"
      ],
      "metadata": {
        "colab": {
          "base_uri": "https://localhost:8080/"
        },
        "id": "2UCISGvppFmZ",
        "outputId": "2ce11ddc-54cf-4de3-edec-a48f40ec6be6"
      },
      "execution_count": null,
      "outputs": [
        {
          "output_type": "stream",
          "name": "stdout",
          "text": [
            "LUIZ\n",
            "True\n"
          ]
        }
      ]
    },
    {
      "cell_type": "code",
      "source": [
        "#para a criação de classe sempre é esse procedimento:\n",
        "class Pessoa:\n",
        "  ...\n",
        "\n",
        "p1 = Pessoa()\n",
        "print(p1)"
      ],
      "metadata": {
        "colab": {
          "base_uri": "https://localhost:8080/"
        },
        "id": "0YBBfr-tqAzK",
        "outputId": "4f0fac59-3163-4ce6-bd14-b80425f9ecfa"
      },
      "execution_count": null,
      "outputs": [
        {
          "output_type": "stream",
          "name": "stdout",
          "text": [
            "<__main__.Pessoa object at 0x7a9838644ee0>\n"
          ]
        }
      ]
    },
    {
      "cell_type": "code",
      "source": [
        "#para a criação de classe sempre é esse procedimento:\n",
        "class Pessoa:\n",
        "  ...\n",
        "\n",
        "p1 = Pessoa()\n",
        "p1.nome = 'Luiz'\n",
        "p1.sobrenome = 'Otávio'\n",
        "print(p1.nome)\n",
        "print(p1.sobrenome)"
      ],
      "metadata": {
        "colab": {
          "base_uri": "https://localhost:8080/"
        },
        "id": "7XFZPtajq0L6",
        "outputId": "da0ed45f-5995-4f62-a636-72050684277b"
      },
      "execution_count": null,
      "outputs": [
        {
          "output_type": "stream",
          "name": "stdout",
          "text": [
            "Luiz\n",
            "Otávio\n"
          ]
        }
      ]
    },
    {
      "cell_type": "code",
      "source": [
        "#para a criação de classe sempre é esse procedimento:\n",
        "class Pessoa: #essa é a classe\n",
        "  ...\n",
        "\n",
        "p1 = Pessoa()   #esse é o objeto, sendo assim, o primeiro objeto\n",
        "p1.nome = 'Luiz'\n",
        "p1.sobrenome = 'Otávio'\n",
        "\n",
        "p2 = Pessoa()\n",
        "p2.nome = 'Maria'\n",
        "p2.sobrenome = 'Joana'\n",
        "\n",
        "\n",
        "\n",
        "print(p1.nome)\n",
        "print(p1.sobrenome)\n",
        "\n",
        "print(p2.nome)\n",
        "print(p2.sobrenome)"
      ],
      "metadata": {
        "colab": {
          "base_uri": "https://localhost:8080/"
        },
        "id": "x45Frt77sLye",
        "outputId": "9b9cda6c-f97f-4ca7-ec24-acd8b17fcef2"
      },
      "execution_count": null,
      "outputs": [
        {
          "output_type": "stream",
          "name": "stdout",
          "text": [
            "Luiz\n",
            "Otávio\n",
            "Maria\n",
            "Joana\n"
          ]
        }
      ]
    },
    {
      "cell_type": "code",
      "source": [
        "#metodo init que inicializa todos os atributos de uma classe.\n",
        "\n",
        "#para a criação de classe sempre é esse procedimento:\n",
        "class Pessoa: #essa é a classe\n",
        "  def __init__(self, nome, sobrenome):  #na criação da classe podemos criar argumentos.\n",
        "    self.nome = nome\n",
        "    self.sobrenome = sobrenome\n",
        "    ...\n",
        "\n",
        "#quando criamos uma classe, temos um próprio molde, e com a criação desses moldes obtemos o próprio self.\n",
        "\n",
        "p1 = Pessoa('Luiz', 'Otávio')   #esse é o objeto, sendo assim, o primeiro objeto\n",
        "#p1.nome = 'Luiz'\n",
        "#p1.sobrenome = 'Otávio'\n",
        "\n",
        "p2 = Pessoa('Maria', 'Joana') #simplifica o objeto.\n",
        "#p2.nome = 'Maria'\n",
        "#p2.sobrenome = 'Joana'\n",
        "\n",
        "\n",
        "\n",
        "print(p1.nome)\n",
        "print(p1.sobrenome)\n",
        "\n",
        "print(p2.nome)\n",
        "print(p2.sobrenome)"
      ],
      "metadata": {
        "colab": {
          "base_uri": "https://localhost:8080/"
        },
        "id": "4s8w-2IPv-Z2",
        "outputId": "741eea46-947d-492f-b519-31bbdb8305fa"
      },
      "execution_count": null,
      "outputs": [
        {
          "output_type": "stream",
          "name": "stdout",
          "text": [
            "Luiz\n",
            "Otávio\n",
            "Maria\n",
            "Joana\n"
          ]
        }
      ]
    },
    {
      "cell_type": "code",
      "source": [
        "#Métodos em instâncias de Classe Python\n",
        "\n",
        "#primeiramente criar uma classe:\n",
        "class Carro: #essa é a classe\n",
        "  def __init__(self,nome):  #na criação da classe podemos criar argumentos.\n",
        "    self.nome = nome        #self é como se fosse um parâmetro que cria variável nome\n",
        "\n",
        "  def acelerar(self):  #nessa função temos um método para determinar uma ação a cada objeto dessa classe\n",
        "    print(f'{self.nome} esta acelerando...')\n",
        "\n",
        "fusca = Carro('Fusca')\n",
        "print(fusca.nome)\n",
        "fusca.acelerar()\n",
        "\n",
        "celta = Carro('Celta')\n",
        "print(celta.nome)\n",
        "celta.acelerar()\n",
        "\n",
        "uno = Carro('Uno')\n",
        "print(uno.nome)\n",
        "uno.acelerar()\n",
        "\n",
        "gol = Carro('Gol')\n",
        "print(gol.nome)\n",
        "gol.acelerar()\n",
        "\n",
        "hillux = Carro('Hillux')\n",
        "print(hillux.nome)\n",
        "hillux.acelerar()\n",
        "\n",
        "corola = Carro('Corola')\n",
        "print(corola.nome)\n",
        "corola.acelerar()\n",
        "\n",
        "versa = Carro('Versa')\n",
        "print(versa.nome)\n",
        "versa.acelerar()\n",
        "\n",
        "renegade = Carro('Renegade')\n",
        "print(renegade.nome)\n",
        "renegade.acelerar()\n",
        "\n",
        "siena = Carro('Siena')\n",
        "print(siena.nome)\n",
        "siena.acelerar()\n",
        "\n",
        "camaro = Carro('Camaro')\n",
        "print(camaro.nome)\n",
        "camaro.acelerar()\n",
        "\n",
        "chana = Carro('Chana')        #dado essa repetição exaustiva é perceptível que temos a classe carro, e objetos como\n",
        "print(chana.nome)             #alguns modelos de carros com características distintas.\n",
        "chana.acelerar()              #método é uma função que esta dentro da classe que geralmente usa a princípio o self.\n",
        "                              #lembrando que esse selfie nada mais é que uma convenção.\n",
        "\n",
        "\n"
      ],
      "metadata": {
        "colab": {
          "base_uri": "https://localhost:8080/"
        },
        "id": "r3hToMJuqFgF",
        "outputId": "02af10e4-53a1-400d-f9ec-04ff8f61c5e2"
      },
      "execution_count": null,
      "outputs": [
        {
          "output_type": "stream",
          "name": "stdout",
          "text": [
            "Fusca\n",
            "Fusca esta acelerando...\n",
            "Celta\n",
            "Celta esta acelerando...\n",
            "Uno\n",
            "Uno esta acelerando...\n",
            "Gol\n",
            "Gol esta acelerando...\n",
            "Hillux\n",
            "Hillux esta acelerando...\n",
            "Corola\n",
            "Corola esta acelerando...\n",
            "Versa\n",
            "Versa esta acelerando...\n",
            "Renegade\n",
            "Renegade esta acelerando...\n",
            "Siena\n",
            "Siena esta acelerando...\n",
            "Camaro\n",
            "Camaro esta acelerando...\n",
            "Chana\n",
            "Chana esta acelerando...\n"
          ]
        }
      ]
    },
    {
      "cell_type": "code",
      "source": [
        "#Escopo da Classe e de métodos da Classe\n",
        "\n",
        "class Curso:\n",
        "\n",
        "  def __init__(self,nome):\n",
        "    self.nome = nome\n",
        "\n",
        "    variavel = 'valor'\n",
        "    print(variavel)\n",
        "\n",
        "  def fazer(self, quando):                           #estamos criando qualquer método.\n",
        "    return f'Vou cursar {self.nome} em {quando}'     #aqui a gente consegue descrever uma ação so com as variáveis\n",
        "\n",
        "\n",
        "engenharia = Curso('Engenharia')\n",
        "print(engenharia.nome)\n",
        "print(engenharia.fazer(str(input(\"quando vc vai fazer: \"))))\n"
      ],
      "metadata": {
        "colab": {
          "base_uri": "https://localhost:8080/"
        },
        "id": "t7sCpYN33r7g",
        "outputId": "9bac5665-923a-4d68-caa7-33681803b0df"
      },
      "execution_count": null,
      "outputs": [
        {
          "output_type": "stream",
          "name": "stdout",
          "text": [
            "valor\n",
            "Engenharia\n",
            "quando vc vai fazer: 2025\n",
            "Vou cursar Engenharia em 2025\n"
          ]
        }
      ]
    },
    {
      "cell_type": "code",
      "source": [
        "class Camera:        #criamos uma classe de camera.\n",
        "\n",
        "  def __init__(self,nome,filmando=False): #quando eu ligo minha camera ela não está filmando     #nomeamos o objeto através desses parâmetro e definimos o estado\n",
        "    self.nome = nome                          #as minhas instâncias podem carregar estados\n",
        "    self.filmando = filmando\n",
        "\n",
        "  def filmar(self):        #metodos para, analisar tal objeto:\n",
        "    if self.filmando:      #self filmando for verdade,\n",
        "      print(f'{self.nome} Já está filmando...')\n",
        "      return\n",
        "\n",
        "    print(f'{self.nome} está filmando...')  #aqui é um else, se o self.filmando não estiver filmando, é pra botar pra filmar.\n",
        "    self.filmando = True\n",
        "\n",
        "  def parar_filmar(self):\n",
        "    if not self.filmando:\n",
        "      print(f'{self.nome} Já está filmando...')\n",
        "      return\n",
        "\n",
        "    print(f'{self.nome} está parando de filmar...')\n",
        "    self.filmando = True\n",
        "\n",
        "  def fotografar(self):\n",
        "    if self.filmando:\n",
        "      print(f'{self.nome} não pode fotografar filmando')\n",
        "      return\n",
        "\n",
        "    print('{self.nome} está fotografando....')\n",
        "    self.filmando = True\n",
        "\n",
        "\n",
        "\n",
        "c1 = Camera('Canon')\n",
        "c2 = Camera('Sony')\n",
        "c1.filmar()\n",
        "c1.filmar()\n",
        "c1.fotografar()      #criamos estados dentro de uma classe.\n",
        "c1.parar_filmar()    #criamos dados dentro de um objeto."
      ],
      "metadata": {
        "colab": {
          "base_uri": "https://localhost:8080/"
        },
        "id": "jjF7PQx57de3",
        "outputId": "5480c608-a029-474d-9d62-c305d27a0e22"
      },
      "execution_count": null,
      "outputs": [
        {
          "output_type": "stream",
          "name": "stdout",
          "text": [
            "Canon está filmando...\n",
            "Canon Já está filmando...\n",
            "Canon não pode fotografar filmando\n",
            "Canon está parando de filmar...\n"
          ]
        }
      ]
    },
    {
      "cell_type": "code",
      "source": [
        "class Pessoa:\n",
        "  ano_atual = 2024   #atributo de classe\n",
        "\n",
        "  def __init__(self,nome, idade):\n",
        "    self.nome = nome\n",
        "    self.idade = idade\n",
        "\n",
        "  def get_ano_nascimento(self):\n",
        "    return self.ano_atual - self.idade\n",
        "\n",
        "\n",
        "\n",
        "pessoas = []   # Criei uma lista vazia\n",
        "\n",
        "for i in range(3):\n",
        "    pessoa = Pessoa(input(\"Nome da pessoa: \"), int(input('Idade da pessoa: ')))\n",
        "    pessoas.append(pessoa)\n",
        "\n",
        "# Loop para imprimir o nome de cada pessoa na lista\n",
        "for pessoa in pessoas:\n",
        "    print(pessoa.nome)\n",
        "    print(pessoa.get_ano_nascimento())"
      ],
      "metadata": {
        "colab": {
          "base_uri": "https://localhost:8080/"
        },
        "id": "mU4pJ_7N_g2B",
        "outputId": "38789067-c6ef-4d42-86d1-2aa89820e67b"
      },
      "execution_count": null,
      "outputs": [
        {
          "output_type": "stream",
          "name": "stdout",
          "text": [
            "Nome da pessoa: gustavo \n",
            "Idade da pessoa: 12\n",
            "Nome da pessoa: luiz\n",
            "Idade da pessoa: 55\n",
            "Nome da pessoa: otávio\n",
            "Idade da pessoa: 33\n",
            "gustavo \n",
            "2012\n",
            "luiz\n",
            "1969\n",
            "otávio\n",
            "1991\n"
          ]
        }
      ]
    },
    {
      "cell_type": "code",
      "source": [
        "# __dict__ evars para atributos de instâncias\n",
        "\n",
        "class Pessoa:\n",
        "\n",
        "  ano_atual = 2024\n",
        "\n",
        "  def __init__(self, nome, idade):\n",
        "    self.nome = nome\n",
        "    self.idade = idade\n",
        "\n",
        "  def get_ano_nascimento(self):\n",
        "    return Pessoa.ano_atual - self.idade\n",
        "\n",
        "\n",
        "\n",
        "pessoas = []   # Criei uma lista vazia\n",
        "\n",
        "for i in range(3):\n",
        "    pessoa = Pessoa(input(\"Nome da pessoa: \"), int(input('Idade da pessoa: ')))\n",
        "    pessoas.append(pessoa)\n",
        "\n",
        "# Loop para imprimir o nome de cada pessoa na lista\n",
        "for pessoa in pessoas:\n",
        "    print(pessoa.nome)\n",
        "    print(pessoa.get_ano_nascimento())\n",
        "\n",
        "print(pessoas[-1].__dict__)\n",
        "\n",
        "\n",
        "\n",
        "\n",
        "\n"
      ],
      "metadata": {
        "colab": {
          "base_uri": "https://localhost:8080/"
        },
        "id": "lPQ0_i6yHC6U",
        "outputId": "2c2c54f4-0e1f-4181-91f2-64ce97fa038b"
      },
      "execution_count": null,
      "outputs": [
        {
          "output_type": "stream",
          "name": "stdout",
          "text": [
            "Nome da pessoa: h\n",
            "Idade da pessoa: 8\n",
            "Nome da pessoa: ii\n",
            "Idade da pessoa: 9\n",
            "Nome da pessoa: nn\n",
            "Idade da pessoa: 4\n",
            "h\n",
            "2016\n",
            "ii\n",
            "2015\n",
            "nn\n",
            "2020\n",
            "{'nome': 'nn', 'idade': 4}\n"
          ]
        }
      ]
    },
    {
      "cell_type": "code",
      "source": [
        "# __dict__ evars para atributos de instâncias\n",
        "\n",
        "class Pessoa:\n",
        "\n",
        "  ano_atual = 2024\n",
        "\n",
        "  def __init__(self, nome, idade):\n",
        "    self.nome = nome\n",
        "    self.idade = idade\n",
        "\n",
        "  def get_ano_nascimento(self):\n",
        "    return Pessoa.ano_atual - self.idade\n",
        "\n",
        "\n",
        "dados = {'nome': 'João', 'idade': 35}\n",
        "p1 = Pessoa(**dados)\n",
        "\n",
        "print(vars(p1))\n",
        "print(p1.nome)\n"
      ],
      "metadata": {
        "colab": {
          "base_uri": "https://localhost:8080/"
        },
        "id": "Ij_SMB7zM3LE",
        "outputId": "69300ea6-6735-4775-b094-e1558b024d4e"
      },
      "execution_count": null,
      "outputs": [
        {
          "output_type": "stream",
          "name": "stdout",
          "text": [
            "{'nome': 'João', 'idade': 35}\n",
            "João\n"
          ]
        }
      ]
    },
    {
      "cell_type": "code",
      "source": [
        "#Métodos de Classe + Factories (fabricas)\n",
        "#são métodos onde \"self\" será \"cls\", ou seja,\n",
        "#ao inves de receber a instância no primeiro\n",
        "#parâmetro, receberemos a própria classe\n",
        "\n",
        "\n",
        "class Pessoa:\n",
        "\n",
        "  ano = 2024\n",
        "\n",
        "  def __init__(self,nome, idade):\n",
        "    self.nome = nome\n",
        "    self.idade = idade\n",
        "\n",
        "  @classmethod\n",
        "  def metodo_de_classe(cls):\n",
        "    print('Hey')\n",
        "\n",
        "  @classmethod\n",
        "  def criar_com_50_anos(cls,nome):\n",
        "    return cls(nome, 50)\n",
        "\n",
        "\n",
        "\n",
        "p1 = Pessoa('João', 34)\n",
        "p2 = Pessoa.criar_com_50_anos('Helena')\n",
        "print(p2.nome, p2.idade)\n",
        "Pessoa.metodo_de_classe()"
      ],
      "metadata": {
        "id": "NS6zKvH-N4G7",
        "colab": {
          "base_uri": "https://localhost:8080/"
        },
        "outputId": "e4d70789-78ed-4a77-f078-91fa69eaa7b5"
      },
      "execution_count": null,
      "outputs": [
        {
          "output_type": "stream",
          "name": "stdout",
          "text": [
            "Helena 50\n",
            "Hey\n"
          ]
        }
      ]
    },
    {
      "cell_type": "code",
      "source": [
        "#method vs @classmethod vs @staticmethod\n",
        "# method - self, método de instancia\n",
        "# @classmethod - cls, método de classe\n",
        "# @staticmethod - método estático (self, cls)\n",
        "\n",
        "class Connection:  #classe de conexão\n",
        "  def __init__(self, host='localhost'): #host é o próprio local do computador, é uma classe que tem o propósito de se conectar com a rede\n",
        "    self.host = host  #referencia o host\n",
        "    self.user = None  #nome de usuário, a princípio estará vazio\n",
        "    self.password = None  #A senha também estara vazia\n",
        "\n",
        "  def set_user(self, user): #função para pegar o nome do usuário\n",
        "      self.user = user  #CONFIGURA O VALOR DO ATRIBUTO NA FUNÇÃO INNIT\n",
        "  def set_password(self, password): #função para pegar a senha do usuário\n",
        "      self.password = password\n",
        "\n",
        "  @classmethod  #método que acessa a classe, não ao método\n",
        "  def create_with_auth(cls, user, password):\n",
        "    connection = cls()\n",
        "    connection.user = user\n",
        "    connection.password = password\n",
        "    return connection\n",
        "\n",
        "  @staticmethod\n",
        "  def soma(x,y):\n",
        "      return x+y\n",
        "\n",
        "\n",
        "\n",
        "\n",
        "# c1 = Connection()\n",
        "c1 =  Connection.create_with_auth('Dislaybson', '1234')\n",
        "#c1.set_user('Dislaybson')\n",
        "#c1.set_password('1234')\n",
        "x=3\n",
        "y=4\n",
        "#print(Connection.log('Essa é a mensagem log'))\n",
        "print(c1.user)\n",
        "print(c1.password)"
      ],
      "metadata": {
        "colab": {
          "base_uri": "https://localhost:8080/"
        },
        "id": "pHvWW0fTJVqG",
        "outputId": "831651c9-2a9e-47f5-c17e-a30ae5e873ed"
      },
      "execution_count": null,
      "outputs": [
        {
          "output_type": "stream",
          "name": "stdout",
          "text": [
            "Dislaybson\n",
            "1234\n"
          ]
        }
      ]
    },
    {
      "cell_type": "code",
      "source": [
        "# @property - um getter no  modo pythonico\n",
        "# getter - um método para obter um atributo\n",
        "#cor get -> cor\n",
        "\n",
        "class Computador: #definir a classe computador\n",
        "  def __init__(self, marca,memoria):  #função init\n",
        "    self.marca = marca  #definir marca\n",
        "    self.memoria = memoria  #definir memoria\n",
        "\n",
        "  @property\n",
        "  def get_marca(self):  #retorna marca\n",
        "    return self.marca\n",
        "\n",
        "  @property\n",
        "  def capacidade(self):  #retorna memoria\n",
        "    return self.memoria\n",
        "\n",
        "\n",
        "# Criando um dicionário para armazenar informações sobre computadores\n",
        "computadores = []\n",
        "\n",
        "# Exemplo de dados de computadores\n",
        "maquinas = ['Samsung', 'Galaxy', 'Apple']\n",
        "tamanhos = ['100 GB', '200 GB', '300 GB']\n",
        "\n",
        "# Criando objetos Computador e adicionando à lista\n",
        "for i in range(len(maquinas)):\n",
        "    computador = Computador(maquinas[i], tamanhos[i])\n",
        "    computadores.append(computador)\n",
        "\n",
        "# Acessando informações usando os métodos de propriedade\n",
        "for computador in computadores:\n",
        "    print(computador.get_marca)\n",
        "    print(computador.capacidade)\n",
        "\n",
        "\n",
        "\n",
        "\n"
      ],
      "metadata": {
        "colab": {
          "base_uri": "https://localhost:8080/"
        },
        "id": "K7PA3gx7f3K2",
        "outputId": "d265b075-2315-46fc-a09c-5d27df2775a6"
      },
      "execution_count": null,
      "outputs": [
        {
          "output_type": "stream",
          "name": "stdout",
          "text": [
            "Samsung\n",
            "100 GB\n",
            "Galaxy\n",
            "200 GB\n",
            "Apple\n",
            "300 GB\n"
          ]
        }
      ]
    },
    {
      "cell_type": "code",
      "source": [
        "# @property + @setter - getter e setter\n",
        "# - como getter.\n",
        "# - p/ evitar quebar código cliente.\n",
        "# - p/ habilitar setter.\n",
        "# - p/ executar ações ao obter um atributo.\n",
        "# Atributos que começam com 1 ou 2 underlines\n",
        "# não deve ser usados fora da classe\n",
        "\n",
        "class Quimica:\n",
        "  def __init__(self,elemento):\n",
        "    self.elemento = elemento\n",
        "\n",
        "\n",
        "  @property\n",
        "  def elemento_quimico(self):\n",
        "    return self.elemento\n",
        "\n",
        "  @elemento_quimico.setter  #serve para restringir determinadas coisas\n",
        "  def cor(self, valor):\n",
        "    if valor == 'hidrogenio':\n",
        "      raise ValueError('Não aceito esse elemento')\n",
        "      self.elemento = valor\n",
        "\n",
        "\n",
        "elemento = Quimica('carbono')\n",
        "elemento.elemento = 'hidrogenio'\n",
        "print(elemento.elemento_quimico)\n",
        "\n"
      ],
      "metadata": {
        "colab": {
          "base_uri": "https://localhost:8080/"
        },
        "id": "Q1Y0o3VuzX-F",
        "outputId": "db3e462a-1619-4e83-9853-5e0f633bcec2"
      },
      "execution_count": null,
      "outputs": [
        {
          "output_type": "stream",
          "name": "stdout",
          "text": [
            "hidrogenio\n"
          ]
        }
      ]
    },
    {
      "cell_type": "code",
      "source": [
        "#nO GERAL EXISTE 4 GRANDES PILARES DA PROGRAMÇÃO ORIENTADA A OBJETO\n",
        "#Abstração\n",
        "#Herança\n",
        "#Encapsulamento\n",
        "#Polimorfismo\n",
        "\n",
        "#Encapsulamento (modificadores de acesso: public, protect, private)\n",
        "#python não tem recurso\n",
        "#underline protect\n",
        "\n",
        "class Dislaybson:\n",
        "  def __init__(self):\n",
        "    self.public = 'Isso é Coisa de Dislaybson'\n",
        "    self._protected = 'Cuidado, isso é protegido'\n",
        "\n",
        "\n",
        "  def metodo_publico(self):\n",
        "    return 'metodo_publico'\n",
        "\n",
        "\n",
        "f = Dislaybson()\n",
        "print(f.public)\n",
        "print(f.metodo_publico()) #isso demonstra como eu posso acessar facilmente\n",
        "print(f._protected)"
      ],
      "metadata": {
        "colab": {
          "base_uri": "https://localhost:8080/"
        },
        "id": "y03mEoWeqh8D",
        "outputId": "909f2ff4-a79c-4576-ab15-e5028fb4d86d"
      },
      "execution_count": null,
      "outputs": [
        {
          "output_type": "stream",
          "name": "stdout",
          "text": [
            "Isso é Coisa de Dislaybson\n",
            "metodo_publico\n",
            "Cuidado, isso é protegido\n"
          ]
        }
      ]
    },
    {
      "cell_type": "code",
      "source": [
        "# agregação é um tipo de relação um pouco mais forte que não deixa de ser fraca\n",
        "#associação entre dois ou mais objetos.\n",
        "#ciclo de vida indepedente, é tipo a relação do carro e da roda, o carro vive sem a roda e vice versa, no entanto a melhor perfomace é de um com o outro.\n",
        "#Geralmente é uma relação de uma para muitos.\n",
        "#se apagar um, não deixa de existir outros.\n",
        "\n",
        "class Estojo: #criei um classe de estojo\n",
        "    def __init__(self):\n",
        "        self._canetas = []  #criei um vetor para adicionar estojos novos\n",
        "        # ._ E somente uma convenção, que significa que tal variável é privada\n",
        "        #Ou seja, isso implica em dizer que ela so poderá ser acessada ou alterada internamente em sua classe.\n",
        "\n",
        "\n",
        "\n",
        "    def total(self):  #função para calcular o total\n",
        "        return sum([p.preco for p in self._canetas])  #pega a variável preço que vem de uma classe externa\n",
        "        #isso evidencia que as duas classes existem sem a necessidade da outra, mas meio que elas se agregam\n",
        "        #exemplo, essa variável preco que vem de outra classe externa\n",
        "\n",
        "    def inserir_canetas(self, *canetas):  #função que reserva um local da memoria para armazer os valores obitidos das canetal que vem do programa principal\n",
        "        for caneta in canetas:  #meio que verifica caso por caso, por são \"n\" casos, que poderia ser de 0-10 por exemplo\n",
        "            self._canetas.append(caneta)  #por fim adiciona o valor coletado \"caneta\", no vetor da variável caneta que vem da função init.\n",
        "\n",
        "    def listar_produtos(self):  # método para listar todos os produtos que vem do ambiente externo da classe\n",
        "        for caneta in self._canetas:  #Um for, que itera cada elemento do vetor ._canetas, com a variável temporável caneta\n",
        "            print(caneta.nome, caneta.preco)  #da o print, para retornar o valor na função principal\n",
        "\n",
        "\n",
        "class Canetas:  #classe canetas, para estruturar nosso bagulho\n",
        "    def __init__(self, nome, preco):  # recebe tem os seguintes argumentos\n",
        "        self.nome = nome  # temos as seguintes variáveis\n",
        "        self.preco = preco\n",
        "\n",
        "carrinho = Estojo() # criamos\n",
        "p1, p2, p3 = Canetas('azul', 1.90), Canetas('preta', 1.30), Canetas('vermelha', 1.50)   # cria tres variais e atribui esses valores para a classe canetaas\n",
        "carrinho.inserir_canetas(p1, p2, p3)  # logo em seguida inserimos as canetas através da função \"inserir_canetas\" que esta em outra classe\n",
        "# É por isso que dizemos que tais classes se relacionam, pois meio que um desencadeia a outra.\n",
        "carrinho.listar_produtos()  #pegamos outra classe e listamos os produtos em um organização mais adequada\n",
        "print(\"Total:\", carrinho.total()) #por final, printamos.\n"
      ],
      "metadata": {
        "colab": {
          "base_uri": "https://localhost:8080/"
        },
        "id": "f2PfejRVrfBs",
        "outputId": "3c6802a8-35d5-4bcb-ae3e-77af958ad919"
      },
      "execution_count": null,
      "outputs": [
        {
          "output_type": "stream",
          "name": "stdout",
          "text": [
            "azul 1.9\n",
            "preta 1.3\n",
            "vermelha 1.5\n",
            "Total: 4.7\n"
          ]
        }
      ]
    },
    {
      "cell_type": "markdown",
      "source": [
        "\n",
        "\n",
        "A função isinstance() em Python é usada para verificar se um objeto é uma instância de uma determinada classe ou de uma classe derivada dessa classe. Ela retorna True se o objeto for uma instância da classe especificada e False caso contrário.\n",
        "\n",
        "Vamos entender isso com mais detalhes:\n",
        "\n",
        "Sintaxe:isinstance(objeto, classe)\n",
        "\n",
        "\n",
        "A função isinstance() é usada para realizar verificação de tipos em tempo de execução. Isso significa que você pode usá-la para garantir que um objeto tenha o tipo esperado antes de executar certas operações com ele.\n",
        "Ela é útil em situações em que você precisa lidar com diferentes tipos de objetos e deseja garantir que certas operações sejam realizadas apenas em objetos de um tipo específico.\n",
        "\n",
        "\n",
        "\n",
        "class Animal:\n",
        "    pass\n",
        "\n",
        "class Cachorro(Animal):\n",
        "    pass\n",
        "\n",
        "class Gato(Animal):\n",
        "    pass\n",
        "\n",
        "cachorro = Cachorro()\n",
        "gato = Gato()\n",
        "\n",
        "print(isinstance(cachorro, Cachorro))  # Saída: True\n",
        "print(isinstance(gato, Cachorro))      # Saída: False\n",
        "print(isinstance(gato, Animal))        # Saída: True\n",
        "\n",
        "\n",
        "\n"
      ],
      "metadata": {
        "id": "b3ZVRtP13IyJ"
      }
    },
    {
      "cell_type": "code",
      "source": [
        "#Composição\n",
        "# Composição é uma especialização da agregação.\n",
        "# Mas nela, quando o objeto \"pai\" for apagado, todas\n",
        "# As referencias dos objetos filhos também são apagados.\n",
        "\n",
        "\n",
        "class Cliente:  #criamos um cliente primeiramente em uma classe\n",
        "  def __init__(self, nome):\n",
        "    self.nome = []  # A criamos uma variável para adicionar nomees a cada elemento novo dessa classe\n",
        "    self.enderecos = [] # Endereço dessa pessoa mencionada.\n",
        "\n",
        "\n",
        "  def inserir_endereco(self, rua, numero):  # inserir enderecos, por a variável criado na função \"init\", ou seja tem-se que adicionar\n",
        "    self.enderecos.append(Endereco(rua,numero)) #por meio da função append\n",
        "\n",
        "\n",
        "  def listar_enderecos(self): # listar endereços por meio do loop for\n",
        "    for endereco in self.enderecos: # criar a variável temporária endereco, posteriormente verificar a variável self.enderecos\n",
        "      print(endereco.rua, endereco.numero)  #printar nesse formato\n",
        "\n",
        "\n",
        "class Endereco: # criar uma classe so para colocar referencias como rua e número\n",
        "  def __init__(self, rua, numero):\n",
        "    self.rua = rua\n",
        "    self.numero = numero\n",
        "\n",
        "\n",
        "client1 = Cliente('Maria')  #cria uma variável para adicionar uma cliente nova\n",
        "client1.inserir_endereco('Av Brasil', 54) #adiciona endereço por meio da função inserir_endereco\n",
        "client1.inserir_endereco('Rua B', 6745)\n",
        "client1.listar_enderecos()  # Por fim, printar, por meio da função\n",
        "client2 = Cliente('Dislaybson')  #cria uma variável para adicionar uma cliente nova\n",
        "client2.inserir_endereco('Av Umberto', 54) #adiciona endereço por meio da função inserir_endereco\n",
        "client2.inserir_endereco('Rua G', 6745)\n",
        "client2.listar_enderecos()  # Por fim, printar, por meio da função\n",
        "\n",
        "\n",
        "\n",
        "print('##############################################################################################')"
      ],
      "metadata": {
        "colab": {
          "base_uri": "https://localhost:8080/"
        },
        "id": "gmnxHMCTOKY6",
        "outputId": "7590fc0f-92a4-4195-e8c9-ef2296bfc11a"
      },
      "execution_count": null,
      "outputs": [
        {
          "output_type": "stream",
          "name": "stdout",
          "text": [
            "Av Brasil 54\n",
            "Rua B 6745\n",
            "Av Umberto 54\n",
            "Rua G 6745\n",
            "##############################################################################################\n"
          ]
        }
      ]
    },
    {
      "cell_type": "markdown",
      "source": [
        "TEORIA: HERANÇA, GENERALIZE POO"
      ],
      "metadata": {
        "id": "vS8hexdqvgnx"
      }
    },
    {
      "cell_type": "code",
      "source": [
        "# 1 -Crie uma classe carro Carro (Nome)\n",
        "# 2 -Crie uma classe Motor (Nome)\n",
        "# 3 - Crie uma Classe fabricante (Fabricante)\n",
        "# 4 - Faça uma ligação entre carro e Fabricante\n",
        "# OBS.: Um Motor pode ser de varios carros\n",
        "# 5 - Faça a ligação entre carro e Fabricantes\n",
        "# OBS.: Um fabricante pode fabricar Vários Carros\n",
        "# Exiba o nome do carro, motor e fabricantes na tela.\n",
        "\n",
        "\n",
        "#Aqui é onde será escrita todas as definições das estruturas que serão criadas.\n",
        "\n",
        "class Carro:\n",
        "\n",
        "  def __init__(self,carro):\n",
        "    self.carro = carro #inicializo o objeto carro e defino os argumentos\n",
        "    self._informacoes = [] #crio uma lista para as informaçoes quanto ao motor e o fabricante\n",
        "\n",
        "\n",
        "  def inserir_motor(self, motor): #método para inserir o motor\n",
        "    self._informacoes.append(Motor(motor))\n",
        "\n",
        "\n",
        "  def inserir_fabricante(self, fabricante): #método para inserir o fabricante\n",
        "    self._informacoes.append(Fabricante(fabricante))\n",
        "\n",
        "\n",
        "  def listar_carro(self): #método para listar todos os elementos\n",
        "\n",
        "\n",
        "    print(f\"Carro: {self.carro}\")   #primeiramente printa o valor do carro\n",
        "    for info in self._informacoes:  #depois percorre o vetor\n",
        "        if isinstance(info, Motor): #verifica se um elemento faz parte de um determinado objeto para depois\n",
        "            print(f\"Motor: {info.motor}\") #imprimir\n",
        "        elif isinstance(info, Fabricante):  #se for outro caso, imprime outo\n",
        "            print(f\"Fabricante: {info.fabricante}\")\n",
        "\n",
        "      # minha ideia aqui é desenvolver ainda mais para colocar multiplos carros e multiplos motores para cada carro\n",
        "      # na parte principal do código, eu criu um for para adicionar um de cada vez.\n",
        "\n",
        "\n",
        "class Motor:\n",
        "  def __init__(self, motor):  # inicializo o objeto do motor, defino os argumentos\n",
        "    self.motor = motor\n",
        "\n",
        "\n",
        "class Fabricante:\n",
        "  def __init__(self, fabricante): #inicializo o objeto fabricante, depois defino os argumentos.\n",
        "    self.fabricante = fabricante\n",
        "\n",
        "lista = []  #para eu adicionar cada modelo de carro em lista.\n",
        "\n",
        "print('########################################################################')\n",
        "print('#################### SEJA BEM-VINDO ####################################')\n",
        "print('########################################################################\\n')\n",
        "\n",
        "print('LOJINHA DE CARRO DO DISLAYBSON: ')\n",
        "quantidade = int(input('Diga a quantidade de carros que deseja cadrastar na nossa loja: '))\n",
        "print('\\n')\n",
        "\n",
        "\n",
        "for i in range(0,quantidade):\n",
        "  print('CADASTRAR CARRO {i+1}: ')\n",
        "  lista.append(Carro(input('digite: ')))\n",
        "  lista[i].inserir_motor(input('Digite motor: '))\n",
        "  lista[i].inserir_fabricante(input('Digite o fabricante: '))\n",
        "\n",
        "for i in range(0,quantidade):\n",
        "  lista[i].listar_carro()\n",
        "\n",
        "\n",
        "'''\n",
        "carro = Carro('Maria')\n",
        "carro.inserir_motor('fiat 2000')\n",
        "carro.inserir_fabricante('Ifone')\n",
        "\n",
        "carro2 = Carro('João')\n",
        "carro2.inserir_motor('palio')\n",
        "carro2.inserir_fabricante('pix')\n",
        "lista.append(carro)\n",
        "carro.listar_carro()\n",
        "carro2.listar_carro()\n",
        "\n",
        "lista[0].listar_carro()\n",
        "'''\n",
        "\n",
        "# Aqui é basicamente onde o programa vai rodar e onde vamos expor na tela\n",
        "# Carro, será"
      ],
      "metadata": {
        "colab": {
          "base_uri": "https://localhost:8080/",
          "height": 678
        },
        "id": "50mZSxP_mdYQ",
        "outputId": "4a11d8c6-0b58-4fb1-cdef-f305019d66ac"
      },
      "execution_count": null,
      "outputs": [
        {
          "output_type": "stream",
          "name": "stdout",
          "text": [
            "########################################################################\n",
            "#################### SEJA BEM-VINDO ####################################\n",
            "########################################################################\n",
            "\n",
            "LOJINHA DE CARRO DO DISLAYBSON: \n",
            "Diga a quantidade de carros que deseja cadrastar na nossa loja: 4\n",
            "\n",
            "\n",
            "CADASTRAR CARRO {i+1}: \n",
            "digite: hillux\n",
            "Digite motor: toyota\n",
            "Digite o fabricante: toyota\n",
            "CADASTRAR CARRO {i+1}: \n",
            "digite: camaro\n",
            "Digite motor: chevrolet\n",
            "Digite o fabricante: chevrolet\n",
            "CADASTRAR CARRO {i+1}: \n",
            "digite: taos\n",
            "Digite motor: motor b\n",
            "Digite o fabricante: wosksvagens\n",
            "CADASTRAR CARRO {i+1}: \n",
            "digite: uno\n",
            "Digite motor: miller\n",
            "Digite o fabricante: fiat\n",
            "Carro: hillux\n",
            "Motor: toyota\n",
            "Fabricante: toyota\n",
            "Carro: camaro\n",
            "Motor: chevrolet\n",
            "Fabricante: chevrolet\n",
            "Carro: taos\n",
            "Motor: motor b\n",
            "Fabricante: wosksvagens\n",
            "Carro: uno\n",
            "Motor: miller\n",
            "Fabricante: fiat\n"
          ]
        },
        {
          "output_type": "execute_result",
          "data": {
            "text/plain": [
              "\"\\ncarro = Carro('Maria')\\ncarro.inserir_motor('fiat 2000')\\ncarro.inserir_fabricante('Ifone')\\n\\ncarro2 = Carro('João')\\ncarro2.inserir_motor('palio')\\ncarro2.inserir_fabricante('pix')\\nlista.append(carro)\\ncarro.listar_carro()\\ncarro2.listar_carro()\\n\\nlista[0].listar_carro()\\n\""
            ],
            "application/vnd.google.colaboratory.intrinsic+json": {
              "type": "string"
            }
          },
          "metadata": {},
          "execution_count": 41
        }
      ]
    },
    {
      "cell_type": "code",
      "source": [
        "# Associação = Objeto usa outro\n",
        "# Agregação = Objeto tem outro objeto\n",
        "# Herança simples - Relações entre cls\n",
        "# Herança é um objeto.\n",
        "\n",
        "# Herança VS Agregação:\n",
        "\n",
        "# Classe Principal (Pessoa)\n",
        "#   -> super class, base class, parent class.\n",
        "# Classes filhas (Cliente)\n",
        "#   -> sub class, child class, derived class.\n",
        "\n",
        "\n",
        "# object\n",
        "class Pessoa:   # Aqui vamos criar a nossa super classe\n",
        "  def __init__(self, nome, sobrenome):\n",
        "    self.nome = nome\n",
        "    self.sobrenome = sobrenome\n",
        "\n",
        "\n",
        "  def falar_nome_classe(self):\n",
        "    print(self.nome, self.sobrenome, self.__class__.__name__)\n",
        "\n",
        "class Cliente(Pessoa):  # Classe Filha, dessa forma o argumento será a classe principal\n",
        "\n",
        "  '''\n",
        "     def falar_nome_classe(self):\n",
        "        print('ESTA NA CLASSE CLIENTE')   -   ISSO REVELA QUE PRIMEIRAMENTE BUSCA O OBJETO NA CLASSE CLIENTE, PARA DEPOIS SE APROFUNDAR EM OUTRAS CLASSES.\n",
        "        print(self.nome, self.sobrenome, self.__class__.__name__)\n",
        "\n",
        "    HERANÇA DEIXA O CÓDIGO BASTANTE COMPLEXO PARA DEBUGAR, E CONFUSO.\n",
        "    EVITE HERANÇAS MUITO GRANDES.\n",
        "  '''\n",
        "\n",
        "\n",
        "class Aluno(Pessoa):  #outra classe filha, que tem como argumento a classe principal\n",
        "  ...\n",
        "\n",
        "\n",
        "\n",
        "c1 = Cliente('Dislaybson', 'Kels')\n",
        "c1.falar_nome_classe()\n",
        "c2 = Aluno('Jew', 'Kels')\n",
        "c2.falar_nome_classe()\n"
      ],
      "metadata": {
        "colab": {
          "base_uri": "https://localhost:8080/"
        },
        "id": "BQCpcWfhx6Oz",
        "outputId": "e9b76d60-c4be-4bf2-f5de-f888ce5f3f53"
      },
      "execution_count": null,
      "outputs": [
        {
          "output_type": "stream",
          "name": "stdout",
          "text": [
            "Dislaybson Kels Cliente\n",
            "Jew Kels Aluno\n"
          ]
        }
      ]
    },
    {
      "cell_type": "code",
      "source": [
        "# Super() é a super Classe na sub classe\n",
        "# Classe principal (Pessoa)\n",
        "#   -> super class, base class, parent class\n",
        "# Classes filhas (Cliente)\n",
        "#   -> sub class, child class, derivid class.\n",
        "\n",
        "class MinhaString(str):  # nativamente str, int, float, tambem são classes, dessa forma, nos poderiamos herdar certos comportamentos dessas classes nativas.\n",
        "  def upper(self):\n",
        "    print('Chamou o upper')\n",
        "    retorno = super().upper() #retornarar o upper para deixar tudo em maiúsculo\n",
        "    print('Depois do Upper')\n",
        "    return retorno\n",
        "\n",
        "\n",
        "string = MinhaString('Dislaybson')\n",
        "print(string.upper()) # Vai deixar em maiúsculo, mas prioritariamente a função que será respondida é a que esta dentro da classe\n",
        "# Depois o upper sobreescreve.\n",
        "\n"
      ],
      "metadata": {
        "colab": {
          "base_uri": "https://localhost:8080/"
        },
        "id": "H5EkLX_58Rdf",
        "outputId": "d8ecef1a-9500-4ca3-ae72-50be1e04d780"
      },
      "execution_count": null,
      "outputs": [
        {
          "output_type": "stream",
          "name": "stdout",
          "text": [
            "Chamou o upper\n",
            "Depois do Upper\n",
            "DISLAYBSON\n"
          ]
        }
      ]
    },
    {
      "cell_type": "code",
      "source": [
        "# Criar classes bem simples:\n",
        "\n",
        "class A:  #classe principal.\n",
        "\n",
        "  atributo_a = 'ESTA DENTRO DA CLASSE A'  #variaável A, que poderá ser acessada por todas as demais classses.\n",
        "\n",
        "  def metodo(self):\n",
        "    print('A')\n",
        "\n",
        "\n",
        "class B(A): #B herda de A, Ou seja, tudo que está em A vai para B.\n",
        "\n",
        "  atributo_b = 'ESTA DENTRO DA CLASSE B'  # variável B, que pode ser acessada somente por B e C.\n",
        "\n",
        "  def metodo(self):\n",
        "    print('B')\n",
        "\n",
        "\n",
        "\n",
        "class C(B): # E assim sucessivamente, tudo que está em B vai para C\n",
        "#Sendo assim um efeito cascata, ou seja um piramide.\n",
        "\n",
        "  atributo_c = 'ESTA DENTRO DA CLASSE C'  #variável c que pode ser acessada somente por c\n",
        "\n",
        "  def metodo(self):\n",
        "    print('C')\n",
        "\n",
        "\n",
        "c = C() #aqui criamos uma variável, que ficará na classe C, para provar que ela consegue acessar as funçoes criadas em classes mais superiores\n",
        "\n",
        "print(c.atributo_a) # acessou essa variável na classe A\n",
        "print(c.atributo_b) # acessou essa variável na classe B\n",
        "print(c.atributo_c) # e por fim, acessou tambem a variável na classe C\n",
        "\n",
        "\n",
        "# Na proxima célula, veremos uma celulá que demonstrará outra situação."
      ],
      "metadata": {
        "colab": {
          "base_uri": "https://localhost:8080/"
        },
        "id": "HsEViR-vDR2J",
        "outputId": "06035bea-52cd-44fe-92b2-c5d41f3c6b61"
      },
      "execution_count": null,
      "outputs": [
        {
          "output_type": "stream",
          "name": "stdout",
          "text": [
            "ESTA DENTRO DA CLASSE A\n",
            "ESTA DENTRO DA CLASSE B\n",
            "ESTA DENTRO DA CLASSE C\n"
          ]
        }
      ]
    },
    {
      "cell_type": "code",
      "source": [
        "# Criar classes bem simples:\n",
        "\n",
        "class A:  #classe principal.\n",
        "\n",
        "  atributo_a = 'ESTA DENTRO DA CLASSE A'  #variaável A, que poderá ser acessada por todas as demais classses.\n",
        "\n",
        "  def metodo(self):\n",
        "    print('A')\n",
        "\n",
        "\n",
        "class B(A): #B herda de A, Ou seja, tudo que está em A vai para B.\n",
        "\n",
        "  atributo_b = 'ESTA DENTRO DA CLASSE B'  # variável B, que pode ser acessada somente por B e C.\n",
        "\n",
        "  def metodo(self):\n",
        "    print('B')\n",
        "\n",
        "\n",
        "\n",
        "class C(B): # E assim sucessivamente, tudo que está em B vai para C\n",
        "#Sendo assim um efeito cascata, ou seja um piramide.\n",
        "\n",
        "  atributo_c = 'ESTA DENTRO DA CLASSE C'  #variável c que pode ser acessada somente por c\n",
        "\n",
        "  def metodo(self):\n",
        "    print('C')\n",
        "\n",
        "\n",
        "c = A() #aqui criamos uma variável, que ficará na classe A, para provar que ela consegue acessar as funçoes criadas em classes mais superiores\n",
        "\n",
        "print(c.atributo_a) # acessou essa variável na classe A\n",
        "print(c.atributo_b) # Não conseguiu acessar classes inferiores\n",
        "print(c.atributo_c) # Não consegue acessar classes inferiores.\n",
        "\n",
        "\n",
        "\n",
        "# Somente classes mais superiores."
      ],
      "metadata": {
        "colab": {
          "base_uri": "https://localhost:8080/",
          "height": 211
        },
        "id": "--a-MIt7GoYm",
        "outputId": "005a613f-289e-4a3d-cf1e-b759771908a9"
      },
      "execution_count": null,
      "outputs": [
        {
          "output_type": "stream",
          "name": "stdout",
          "text": [
            "ESTA DENTRO DA CLASSE A\n"
          ]
        },
        {
          "output_type": "error",
          "ename": "AttributeError",
          "evalue": "'A' object has no attribute 'atributo_b'",
          "traceback": [
            "\u001b[0;31m---------------------------------------------------------------------------\u001b[0m",
            "\u001b[0;31mAttributeError\u001b[0m                            Traceback (most recent call last)",
            "\u001b[0;32m<ipython-input-15-161dac403f8b>\u001b[0m in \u001b[0;36m<cell line: 32>\u001b[0;34m()\u001b[0m\n\u001b[1;32m     30\u001b[0m \u001b[0;34m\u001b[0m\u001b[0m\n\u001b[1;32m     31\u001b[0m \u001b[0mprint\u001b[0m\u001b[0;34m(\u001b[0m\u001b[0mc\u001b[0m\u001b[0;34m.\u001b[0m\u001b[0matributo_a\u001b[0m\u001b[0;34m)\u001b[0m \u001b[0;31m# acessou essa variável na classe A\u001b[0m\u001b[0;34m\u001b[0m\u001b[0;34m\u001b[0m\u001b[0m\n\u001b[0;32m---> 32\u001b[0;31m \u001b[0mprint\u001b[0m\u001b[0;34m(\u001b[0m\u001b[0mc\u001b[0m\u001b[0;34m.\u001b[0m\u001b[0matributo_b\u001b[0m\u001b[0;34m)\u001b[0m \u001b[0;31m# acessou essa variável na classe B\u001b[0m\u001b[0;34m\u001b[0m\u001b[0;34m\u001b[0m\u001b[0m\n\u001b[0m\u001b[1;32m     33\u001b[0m \u001b[0mprint\u001b[0m\u001b[0;34m(\u001b[0m\u001b[0mc\u001b[0m\u001b[0;34m.\u001b[0m\u001b[0matributo_c\u001b[0m\u001b[0;34m)\u001b[0m\u001b[0;34m\u001b[0m\u001b[0;34m\u001b[0m\u001b[0m\n",
            "\u001b[0;31mAttributeError\u001b[0m: 'A' object has no attribute 'atributo_b'"
          ]
        }
      ]
    },
    {
      "cell_type": "code",
      "source": [
        "class A:  #classe principal.\n",
        "\n",
        "  atributo_a = 'ESTA DENTRO DA CLASSE A'  #variaável A, que poderá ser acessada por todas as demais classses.\n",
        "\n",
        "  def __init__(self, atributo): #O init é um método\n",
        "  # Aqui criamos um atributo quaquel\n",
        "  #se na parte principal do programa, criarmos uma variável que é atribuida a Estrutura C ou B\n",
        "  # Vai ser obrigado criar um parametro, para preencher esse atributo que está pesente na classe A\n",
        "  # Haja vista que, todos os elementos da classe A, faz parte da classe C e B\n",
        "    self.atributo = atributo\n",
        "\n",
        "\n",
        "\n",
        "  def metodo(self):\n",
        "    \"\"\"\n",
        "\n",
        "    \"\"\"\n",
        "    print('A')\n",
        "\n",
        "\n",
        "class B(A): #B herda de A, Ou seja, tudo que está em A vai para B.\n",
        "\n",
        "  atributo_b = 'ESTA DENTRO DA CLASSE B'  # variável B, que pode ser acessada somente por B e C.\n",
        "\n",
        "  def __init__(self, atributo):# SE for escrever um método init na classe B, terá que estruturar da seguinte forma\n",
        "    super().__init__(atributo)\n",
        "    # Isso serve para receber o atributo da classe acima, essa função init, servirá tambem para receber\n",
        "    # Atributos exclivos da classe B\n",
        "\n",
        "\n",
        "\n",
        "\n",
        "\n",
        "  def metodo(self):\n",
        "    print('B')\n",
        "\n",
        "\n",
        "\n",
        "class C(B): # E assim sucessivamente, tudo que está em B vai para C\n",
        "\n",
        "\n",
        "  atributo_c = 'ESTA DENTRO DA CLASSE C'  #variável c que pode ser acessada somente por c\n",
        "\n",
        "  def metodo(self):\n",
        "      super(C, self).metodo()\n",
        "      super(B, self).metodo()\n",
        "\n",
        "#print(C.mro())\n",
        "\n",
        "'''\n",
        "print(C.mro())\n",
        "[<class '__main__.C'>, <class '__main__.B'>, <class '__main__.A'>, <class 'object'>]\n",
        "DESTRINCHA A PIRAMIDE DE OBJETOS\n",
        "'''\n",
        "c = C('Dislaybson Novo')\n",
        "print(c.atributo)\n",
        "#print(c.atributo_a)\n",
        "#print(c.atributo_b)\n",
        "#print(c.atributo_c)"
      ],
      "metadata": {
        "colab": {
          "base_uri": "https://localhost:8080/"
        },
        "id": "2ryxRLYjMT7n",
        "outputId": "0fd3476a-2f87-44dc-c01a-21d86c29af49"
      },
      "execution_count": null,
      "outputs": [
        {
          "output_type": "stream",
          "name": "stdout",
          "text": [
            "Dislaybson Novo\n"
          ]
        }
      ]
    },
    {
      "cell_type": "code",
      "source": [
        "# Herança Mútipla - Python Orientado a Objetos\n",
        "# Quer dizer que o python, uma classe pode estender\n",
        "# Várias outras classes.\n",
        "# Herança simples:\n",
        "# Animal -> Mamifero -> Humano -> Pessoa -> Cliente\n",
        "# Herança mútipla e mixins\n",
        "# Log -> Filelog\n",
        "# Animal -> Mamifero -> Humano -> Pessoa -> Cliente\n",
        "# Cliente(Pessoa, FileLog)\n",
        "\n",
        "\n",
        "\n",
        "# Supomos\n",
        "\n",
        "# A, B, C, D\n",
        "# D(B, C) - C(A) - B(A) - A\n",
        "# Ou seja, diferente da herança simples que a estrutura era linear, aqui temos um diamante.\n",
        "# Que se assemelha a um diamante, dando dois rumos de decisão de classes\n",
        "# Dessa forma, devemos impor um método para descidir o caminho necessário a ser trilhado.\n",
        "#\n",
        "#         A\n",
        "#       /   \\\n",
        "#      B     C\n",
        "#       \\   /\n",
        "#         D\n",
        "#\n",
        "\n",
        "# Para saber a ordem de resolução dos métodos temos a seguinte situação.\n",
        "#\n",
        "\n",
        "# Python 3 usa C3 superclass linearization\n",
        "# para gerar o mro\n",
        "# Você não precisa estudar isso (é complexo)\n"
      ],
      "metadata": {
        "id": "f5V0CmHfJQOn"
      },
      "execution_count": null,
      "outputs": []
    },
    {
      "cell_type": "code",
      "source": [
        " #        A\n",
        "#       /   \\\n",
        "#      B     C\n",
        "#       \\   /\n",
        "#         D\n",
        "\n",
        "\n",
        "\n",
        "class A:\n",
        "  ...\n",
        "  def quem_sou(self):\n",
        "    print('A')\n",
        "\n",
        "\n",
        "\n",
        "class B(A):\n",
        "  ...\n",
        "  def quem_sou(self):\n",
        "    print('B')\n",
        "\n",
        "\n",
        "\n",
        "class C(A):\n",
        "  ...\n",
        "  def quem_sou(self):\n",
        "    print('C')\n",
        "\n",
        "\n",
        "\n",
        "class D(B,C):\n",
        "  ...\n",
        " # def quem_sou(self): #se caso comentar esse método quem_sou na classe D, a classe D vai pegar automaticamente das classes superiores se existir\n",
        "  #  print('D')  #No caso será chamado\n",
        "\n",
        "\n",
        "\n",
        "d = D()\n",
        "d.quem_sou()\n",
        "\n",
        "# Quando chamar um método em D, teremos a seguinte ordem de resolução:\n",
        "# [<class '__main__.D'>, <class '__main__.B'>, <class '__main__.C'>, <class '__main__.A'>, <class 'object'>]\n",
        "print(D.__mro__)  # Retorna tupla\n",
        "print(D.mro())  # Retorna Lista.\n",
        "\n",
        "\n",
        "\n"
      ],
      "metadata": {
        "colab": {
          "base_uri": "https://localhost:8080/"
        },
        "id": "w0JvkMfERU9w",
        "outputId": "484d4ae7-9bac-48a6-a3ed-282e0d6c5799"
      },
      "execution_count": null,
      "outputs": [
        {
          "output_type": "stream",
          "name": "stdout",
          "text": [
            "B\n",
            "(<class '__main__.D'>, <class '__main__.B'>, <class '__main__.C'>, <class '__main__.A'>, <class 'object'>)\n",
            "[<class '__main__.D'>, <class '__main__.B'>, <class '__main__.C'>, <class '__main__.A'>, <class 'object'>]\n"
          ]
        }
      ]
    },
    {
      "cell_type": "code",
      "source": [
        "# Aula 226)\n",
        "\n",
        "# exercício guiado.\n",
        "# OUTRO PILAR DA PROGRAMAÇÃO ORIENTADA A OBJETOS É:\n",
        "# ABSTRAÇÃO:\n",
        "\n",
        "class Log:\n",
        "    def log(self, msg):\n",
        "        raise NotImplementedError('Implemente o método log')\n",
        "\n",
        "\n",
        "class LogFileMixin(Log):\n",
        "    def log(self, msg):\n",
        "        print(msg)\n",
        "\n",
        "\n",
        "if __name__ == '__main__':\n",
        "    l = LogFileMixin()\n",
        "    l.log('qualquer coisa')\n"
      ],
      "metadata": {
        "colab": {
          "base_uri": "https://localhost:8080/"
        },
        "id": "8fzwfft5V96Q",
        "outputId": "feb38bef-f1cc-418b-f5fb-ef382fb437e5"
      },
      "execution_count": null,
      "outputs": [
        {
          "output_type": "stream",
          "name": "stdout",
          "text": [
            "qualquer coisa\n"
          ]
        }
      ]
    },
    {
      "cell_type": "code",
      "source": [
        "# Aula 227)\n",
        "\n",
        "# exercício guiado.\n",
        "# OUTRO PILAR DA PROGRAMAÇÃO ORIENTADA A OBJETOS É:\n",
        "# ABSTRAÇÃO:\n",
        "\n",
        "class Log:  # Classe mãe\n",
        "    def _log(self, msg):  # Método privado para abstrair a classe\n",
        "        raise NotImplementedError('Implemente o método log')\n",
        "\n",
        "    def log_error(self, msg):  # Método para registrar erro\n",
        "        return self._log(f'Error: {msg}')\n",
        "\n",
        "\n",
        "class LogFileMixin(Log):  # Classe para log em arquivo\n",
        "    def _log(self, msg):  # Implementação do método _log para log em arquivo\n",
        "        print(msg)  # Aqui seria a implementação real de log em arquivo\n",
        "\n",
        "\n",
        "class LogPrintMixin(Log):  # Classe para log na impressão\n",
        "    def _log(self, msg):  # Implementação do método _log para log na impressão\n",
        "        print(f'{msg} ({self.__class__.__name__})')  # Usando __class__.__name__ para obter o nome da classe\n",
        "\n",
        "\n",
        "if __name__ == '__main__':\n",
        "    l = LogPrintMixin()\n",
        "    l.log_error('qualquer coisa')  # Chamando o método log_error para registrar um erro\n",
        "\n"
      ],
      "metadata": {
        "colab": {
          "base_uri": "https://localhost:8080/"
        },
        "id": "s6GqmmBTjcnl",
        "outputId": "10428798-ff0d-4e3d-8740-19d326951cbc"
      },
      "execution_count": null,
      "outputs": [
        {
          "output_type": "stream",
          "name": "stdout",
          "text": [
            "Error: qualquer coisa (LogPrintMixin)\n"
          ]
        }
      ]
    },
    {
      "cell_type": "markdown",
      "source": [
        "# **DJANGO, FRAMEWORK PARA SITES**"
      ],
      "metadata": {
        "id": "E0Cqxfs4YFbu"
      }
    }
  ]
}